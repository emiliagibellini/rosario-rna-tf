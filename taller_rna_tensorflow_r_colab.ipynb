{
  "nbformat": 4,
  "nbformat_minor": 0,
  "metadata": {
    "kernelspec": {
      "display_name": "R",
      "language": "R",
      "name": "ir"
    },
    "language_info": {
      "codemirror_mode": "r",
      "file_extension": ".r",
      "mimetype": "text/x-r-source",
      "name": "R",
      "pygments_lexer": "r",
      "version": "3.6.1"
    },
    "colab": {
      "name": "taller_rna_tensorflow_r_colab.ipynb",
      "provenance": [],
      "collapsed_sections": [
        "h_xrJeaxvQDr",
        "N1aoZx_8vXmI",
        "L8q06nnoModI",
        "4QYYWHUvP-1o",
        "ULpybCzbf1DQ",
        "VuunpzG2uLHB",
        "0AWn2PTuQY0S"
      ],
      "include_colab_link": true
    }
  },
  "cells": [
    {
      "cell_type": "markdown",
      "metadata": {
        "id": "view-in-github",
        "colab_type": "text"
      },
      "source": [
        "<a href=\"https://colab.research.google.com/github/emiliagibellini/rosario-rna-tf/blob/main/taller_rna_tensorflow_r_colab.ipynb\" target=\"_parent\"><img src=\"https://colab.research.google.com/assets/colab-badge.svg\" alt=\"Open In Colab\"/></a>"
      ]
    },
    {
      "cell_type": "markdown",
      "metadata": {
        "id": "GLChUdKzu3ux"
      },
      "source": [
        "# Redes Neuronales Artificiales\n",
        "\n",
        "## Aplicación a datos de reconocimiento de actividad humana con smartphones\n",
        "\n",
        "https://www.kaggle.com/uciml/human-activity-recognition-with-smartphones"
      ]
    },
    {
      "cell_type": "markdown",
      "metadata": {
        "id": "h_xrJeaxvQDr"
      },
      "source": [
        "## Librerías"
      ]
    },
    {
      "cell_type": "code",
      "metadata": {
        "id": "aRg-ZmC-Dl1D",
        "colab": {
          "base_uri": "https://localhost:8080/",
          "height": 319
        },
        "outputId": "f07e1fdb-c75a-473b-ae1d-59013550690f"
      },
      "source": [
        "install.packages('tensorflow')\n",
        "install.packages('tfestimators')\n",
        "install.packages('keras')"
      ],
      "execution_count": null,
      "outputs": [
        {
          "output_type": "stream",
          "text": [
            "Installing package into ‘/usr/local/lib/R/site-library’\n",
            "(as ‘lib’ is unspecified)\n",
            "\n",
            "also installing the dependencies ‘rappdirs’, ‘config’, ‘reticulate’, ‘tfruns’\n",
            "\n",
            "\n",
            "Installing package into ‘/usr/local/lib/R/site-library’\n",
            "(as ‘lib’ is unspecified)\n",
            "\n",
            "also installing the dependency ‘forge’\n",
            "\n",
            "\n",
            "Installing package into ‘/usr/local/lib/R/site-library’\n",
            "(as ‘lib’ is unspecified)\n",
            "\n",
            "also installing the dependency ‘zeallot’\n",
            "\n",
            "\n"
          ],
          "name": "stderr"
        }
      ]
    },
    {
      "cell_type": "code",
      "metadata": {
        "id": "882cxHYzDiE4",
        "colab": {
          "base_uri": "https://localhost:8080/",
          "height": 437
        },
        "outputId": "03c7e02d-ede4-4ca9-d53f-d7f19781d0f1"
      },
      "source": [
        "library(dplyr)\n",
        "library(tidyverse)\n",
        "library(tensorflow)\n",
        "library(tfestimators)\n",
        "library(keras)"
      ],
      "execution_count": null,
      "outputs": [
        {
          "output_type": "stream",
          "text": [
            "\n",
            "Attaching package: ‘dplyr’\n",
            "\n",
            "\n",
            "The following objects are masked from ‘package:stats’:\n",
            "\n",
            "    filter, lag\n",
            "\n",
            "\n",
            "The following objects are masked from ‘package:base’:\n",
            "\n",
            "    intersect, setdiff, setequal, union\n",
            "\n",
            "\n",
            "── \u001b[1mAttaching packages\u001b[22m ─────────────────────────────────────── tidyverse 1.3.0 ──\n",
            "\n",
            "\u001b[32m✔\u001b[39m \u001b[34mggplot2\u001b[39m 3.2.1     \u001b[32m✔\u001b[39m \u001b[34mpurrr  \u001b[39m 0.3.3\n",
            "\u001b[32m✔\u001b[39m \u001b[34mtibble \u001b[39m 2.1.3     \u001b[32m✔\u001b[39m \u001b[34mstringr\u001b[39m 1.4.0\n",
            "\u001b[32m✔\u001b[39m \u001b[34mtidyr  \u001b[39m 1.0.2     \u001b[32m✔\u001b[39m \u001b[34mforcats\u001b[39m 0.4.0\n",
            "\u001b[32m✔\u001b[39m \u001b[34mreadr  \u001b[39m 1.3.1     \n",
            "\n",
            "── \u001b[1mConflicts\u001b[22m ────────────────────────────────────────── tidyverse_conflicts() ──\n",
            "\u001b[31m✖\u001b[39m \u001b[34mdplyr\u001b[39m::\u001b[32mfilter()\u001b[39m masks \u001b[34mstats\u001b[39m::filter()\n",
            "\u001b[31m✖\u001b[39m \u001b[34mdplyr\u001b[39m::\u001b[32mlag()\u001b[39m    masks \u001b[34mstats\u001b[39m::lag()\n",
            "\n"
          ],
          "name": "stderr"
        }
      ]
    },
    {
      "cell_type": "markdown",
      "metadata": {
        "id": "N1aoZx_8vXmI"
      },
      "source": [
        "## Datos de entrenamiento, validación y test\n",
        "\n",
        "Para poder levantar los datos, ir al icono de carpeta a la izquierda y subir los archivos *train.csv* y *test.csv*."
      ]
    },
    {
      "cell_type": "code",
      "metadata": {
        "id": "nor5GCSuDAkm",
        "colab": {
          "base_uri": "https://localhost:8080/",
          "height": 373
        },
        "outputId": "8e4292bd-d022-4125-f095-160c3c52d4b4"
      },
      "source": [
        "train_df <- read_csv('train.csv')"
      ],
      "execution_count": null,
      "outputs": [
        {
          "output_type": "stream",
          "text": [
            "Warning message:\n",
            "“Duplicated column names deduplicated: '0' => '0_1' [61], '0' => '0_2' [62], '0' => '0_3' [65]”\n",
            "Parsed with column specification:\n",
            "cols(\n",
            "  .default = col_character()\n",
            ")\n",
            "\n",
            "See spec(...) for full column specifications.\n",
            "\n",
            "Warning message:\n",
            "“340 parsing failures.\n",
            "row                             col           expected     actual                                                                 file\n",
            "  1 NA                              66 columns         6 columns  'https://drive.google.com/open?id=117DDKU1VDJvKOi7OISw8R9Lat3bI6WdH'\n",
            "  2 docs-crq\":\"usp\\u003ddrive_open delimiter or quote ]          'https://drive.google.com/open?id=117DDKU1VDJvKOi7OISw8R9Lat3bI6WdH'\n",
            "  2 docs-crq\":\"usp\\u003ddrive_open delimiter or quote h          'https://drive.google.com/open?id=117DDKU1VDJvKOi7OISw8R9Lat3bI6WdH'\n",
            "  2 NA                              66 columns         27 columns 'https://drive.google.com/open?id=117DDKU1VDJvKOi7OISw8R9Lat3bI6WdH'\n",
            "  3 NA                              66 columns         11 columns 'https://drive.google.com/open?id=117DDKU1VDJvKOi7OISw8R9Lat3bI6WdH'\n",
            "... ............................... .................. .......... ....................................................................\n",
            "See problems(...) for more details.\n",
            "”\n"
          ],
          "name": "stderr"
        }
      ]
    },
    {
      "cell_type": "code",
      "metadata": {
        "id": "nKSMn6OsJDAS",
        "colab": {
          "base_uri": "https://localhost:8080/",
          "height": 34
        },
        "outputId": "7bdb7530-e458-4428-d6c8-ff6256a9313f"
      },
      "source": [
        "tail(variable.names(train_df))"
      ],
      "execution_count": null,
      "outputs": [
        {
          "output_type": "display_data",
          "data": {
            "text/plain": [
              "[1] \"0_1\" \"0_2\" \"1\"   \"[0\"  \"0_3\" \"0]\" "
            ],
            "text/latex": "\\begin{enumerate*}\n\\item '0\\_1'\n\\item '0\\_2'\n\\item '1'\n\\item '{[}0'\n\\item '0\\_3'\n\\item '0{]}'\n\\end{enumerate*}\n",
            "text/markdown": "1. '0_1'\n2. '0_2'\n3. '1'\n4. '[0'\n5. '0_3'\n6. '0]'\n\n\n",
            "text/html": [
              "<style>\n",
              ".list-inline {list-style: none; margin:0; padding: 0}\n",
              ".list-inline>li {display: inline-block}\n",
              ".list-inline>li:not(:last-child)::after {content: \"\\00b7\"; padding: 0 .5ex}\n",
              "</style>\n",
              "<ol class=list-inline><li>'0_1'</li><li>'0_2'</li><li>'1'</li><li>'[0'</li><li>'0_3'</li><li>'0]'</li></ol>\n"
            ]
          },
          "metadata": {
            "tags": []
          }
        }
      ]
    },
    {
      "cell_type": "code",
      "metadata": {
        "id": "lUIk5-_FJP2J",
        "colab": {
          "base_uri": "https://localhost:8080/",
          "height": 34
        },
        "outputId": "4dec1794-515f-450f-b02d-78fb9e7f8085"
      },
      "source": [
        "unique(train_df$Activity)"
      ],
      "execution_count": null,
      "outputs": [
        {
          "output_type": "display_data",
          "data": {
            "text/plain": [
              "[1] \"STANDING\"           \"SITTING\"            \"LAYING\"            \n",
              "[4] \"WALKING\"            \"WALKING_DOWNSTAIRS\" \"WALKING_UPSTAIRS\"  "
            ],
            "text/latex": "\\begin{enumerate*}\n\\item 'STANDING'\n\\item 'SITTING'\n\\item 'LAYING'\n\\item 'WALKING'\n\\item 'WALKING\\_DOWNSTAIRS'\n\\item 'WALKING\\_UPSTAIRS'\n\\end{enumerate*}\n",
            "text/markdown": "1. 'STANDING'\n2. 'SITTING'\n3. 'LAYING'\n4. 'WALKING'\n5. 'WALKING_DOWNSTAIRS'\n6. 'WALKING_UPSTAIRS'\n\n\n",
            "text/html": [
              "<style>\n",
              ".list-inline {list-style: none; margin:0; padding: 0}\n",
              ".list-inline>li {display: inline-block}\n",
              ".list-inline>li:not(:last-child)::after {content: \"\\00b7\"; padding: 0 .5ex}\n",
              "</style>\n",
              "<ol class=list-inline><li>'STANDING'</li><li>'SITTING'</li><li>'LAYING'</li><li>'WALKING'</li><li>'WALKING_DOWNSTAIRS'</li><li>'WALKING_UPSTAIRS'</li></ol>\n"
            ]
          },
          "metadata": {
            "tags": []
          }
        }
      ]
    },
    {
      "cell_type": "code",
      "metadata": {
        "id": "ReV0-52QLDqg",
        "colab": {
          "base_uri": "https://localhost:8080/",
          "height": 34
        },
        "outputId": "f5758e9c-20d8-4951-e338-af85a5362922"
      },
      "source": [
        "length(unique(train_df$subject))"
      ],
      "execution_count": null,
      "outputs": [
        {
          "output_type": "display_data",
          "data": {
            "text/plain": [
              "[1] 21"
            ],
            "text/latex": "21",
            "text/markdown": "21",
            "text/html": [
              "21"
            ]
          },
          "metadata": {
            "tags": []
          }
        }
      ]
    },
    {
      "cell_type": "code",
      "metadata": {
        "id": "2icfIpHPDpsZ"
      },
      "source": [
        "set.seed(123)\n",
        "\n",
        "subject_cv <- sample(unique(train_df$subject), 9)\n",
        "\n",
        "cv_df <- train_df %>%\n",
        "filter(subject %in% subject_cv)\n",
        "\n",
        "train_df <- train_df %>%\n",
        "filter(subject %in% subject_cv == F)"
      ],
      "execution_count": null,
      "outputs": []
    },
    {
      "cell_type": "code",
      "metadata": {
        "id": "vA5pD3iCJT2w",
        "colab": {
          "base_uri": "https://localhost:8080/",
          "height": 34
        },
        "outputId": "23c8503e-a5d5-4724-8e52-954d54942a66"
      },
      "source": [
        "length(unique(cv_df$subject))"
      ],
      "execution_count": null,
      "outputs": [
        {
          "output_type": "display_data",
          "data": {
            "text/plain": [
              "[1] 9"
            ],
            "text/latex": "9",
            "text/markdown": "9",
            "text/html": [
              "9"
            ]
          },
          "metadata": {
            "tags": []
          }
        }
      ]
    },
    {
      "cell_type": "code",
      "metadata": {
        "id": "ZyG9HSvMKyXs",
        "colab": {
          "base_uri": "https://localhost:8080/",
          "height": 34
        },
        "outputId": "f65c6ec2-789e-491a-9f12-2b10622f1f9f"
      },
      "source": [
        "length(unique(train_df$subject))"
      ],
      "execution_count": null,
      "outputs": [
        {
          "output_type": "display_data",
          "data": {
            "text/plain": [
              "[1] 12"
            ],
            "text/latex": "12",
            "text/markdown": "12",
            "text/html": [
              "12"
            ]
          },
          "metadata": {
            "tags": []
          }
        }
      ]
    },
    {
      "cell_type": "code",
      "metadata": {
        "id": "2L3Nn42IPVNz",
        "colab": {
          "base_uri": "https://localhost:8080/",
          "height": 224
        },
        "outputId": "1667c4ae-4663-47f5-b4d4-6dbec77b763f"
      },
      "source": [
        "test_df <- read_csv('test.csv')\n",
        "tail(variable.names(test_df))"
      ],
      "execution_count": null,
      "outputs": [
        {
          "output_type": "stream",
          "text": [
            "Warning message:\n",
            "“Duplicated column names deduplicated: 'fBodyAcc-bandsEnergy()-1,8' => 'fBodyAcc-bandsEnergy()-1,8_1' [317], 'fBodyAcc-bandsEnergy()-9,16' => 'fBodyAcc-bandsEnergy()-9,16_1' [318], 'fBodyAcc-bandsEnergy()-17,24' => 'fBodyAcc-bandsEnergy()-17,24_1' [319], 'fBodyAcc-bandsEnergy()-25,32' => 'fBodyAcc-bandsEnergy()-25,32_1' [320], 'fBodyAcc-bandsEnergy()-33,40' => 'fBodyAcc-bandsEnergy()-33,40_1' [321], 'fBodyAcc-bandsEnergy()-41,48' => 'fBodyAcc-bandsEnergy()-41,48_1' [322], 'fBodyAcc-bandsEnergy()-49,56' => 'fBodyAcc-bandsEnergy()-49,56_1' [323], 'fBodyAcc-bandsEnergy()-57,64' => 'fBodyAcc-bandsEnergy()-57,64_1' [324], 'fBodyAcc-bandsEnergy()-1,16' => 'fBodyAcc-bandsEnergy()-1,16_1' [325], 'fBodyAcc-bandsEnergy()-17,32' => 'fBodyAcc-bandsEnergy()-17,32_1' [326], 'fBodyAcc-bandsEnergy()-33,48' => 'fBodyAcc-bandsEnergy()-33,48_1' [327], 'fBodyAcc-bandsEnergy()-49,64' => 'fBodyAcc-bandsEnergy()-49,64_1' [328], 'fBodyAcc-bandsEnergy()-1,24' => 'fBodyAcc-bandsEnergy()-1,24_1' [329], 'fBodyAcc-bandsEnergy()-25,48' => 'fBodyAcc-bandsEnergy()-25,48_1' [330], 'fBodyAcc-bandsEnergy()-1,8' => 'fBodyAcc-bandsEnergy()-1,8_2' [331], 'fBodyAcc-bandsEnergy()-9,16' => 'fBodyAcc-bandsEnergy()-9,16_2' [332], 'fBodyAcc-bandsEnergy()-17,24' => 'fBodyAcc-bandsEnergy()-17,24_2' [333], 'fBodyAcc-bandsEnergy()-25,32' => 'fBodyAcc-bandsEnergy()-25,32_2' [334], 'fBodyAcc-bandsEnergy()-33,40' => 'fBodyAcc-bandsEnergy()-33,40_2' [335], 'fBodyAcc-bandsEnergy()-41,48' => 'fBodyAcc-bandsEnergy()-41,48_2' [336], 'fBodyAcc-bandsEnergy()-49,56' => 'fBodyAcc-bandsEnergy()-49,56_2' [337], 'fBodyAcc-bandsEnergy()-57,64' => 'fBodyAcc-bandsEnergy()-57,64_2' [338], 'fBodyAcc-bandsEnergy()-1,16' => 'fBodyAcc-bandsEnergy()-1,16_2' [339], 'fBodyAcc-bandsEnergy()-17,32' => 'fBodyAcc-bandsEnergy()-17,32_2' [340], 'fBodyAcc-bandsEnergy()-33,48' => 'fBodyAcc-bandsEnergy()-33,48_2' [341], 'fBodyAcc-bandsEnergy()-49,64' => 'fBodyAcc-bandsEnergy()-49,64_2' [342], 'fBodyAcc-bandsEnergy()-1,24' => 'fBodyAcc-bandsEnergy()-1,24_2' [343], 'fBodyAcc-bandsEnergy()-25,48' => 'fBodyAcc-bandsEnergy()-25,48_2' [344], 'fBodyAccJerk-bandsEnergy()-1,8' => 'fBodyAccJerk-bandsEnergy()-1,8_1' [396], 'fBodyAccJerk-bandsEnergy()-9,16' => 'fBodyAccJerk-bandsEnergy()-9,16_1' [397], 'fBodyAccJerk-bandsEnergy()-17,24' => 'fBodyAccJerk-bandsEnergy()-17,24_1' [398], 'fBodyAccJerk-bandsEnergy()-25,32' => 'fBodyAccJerk-bandsEnergy()-25,32_1' [399], 'fBodyAccJerk-bandsEnergy()-33,40' => 'fBodyAccJerk-bandsEnergy()-33,40_1' [400], 'fBodyAccJerk-bandsEnergy()-41,48' => 'fBodyAccJerk-bandsEnergy()-41,48_1' [401], 'fBodyAccJerk-bandsEnergy()-49,56' => 'fBodyAccJerk-bandsEnergy()-49,56_1' [402], 'fBodyAccJerk-bandsEnergy()-57,64' => 'fBodyAccJerk-bandsEnergy()-57,64_1' [403], 'fBodyAccJerk-bandsEnergy()-1,16' => 'fBodyAccJerk-bandsEnergy()-1,16_1' [404], 'fBodyAccJerk-bandsEnergy()-17,32' => 'fBodyAccJerk-bandsEnergy()-17,32_1' [405], 'fBodyAccJerk-bandsEnergy()-33,48' => 'fBodyAccJerk-bandsEnergy()-33,48_1' [406], 'fBodyAccJerk-bandsEnergy()-49,64' => 'fBodyAccJerk-bandsEnergy()-49,64_1' [407], 'fBodyAccJerk-bandsEnergy()-1,24' => 'fBodyAccJerk-bandsEnergy()-1,24_1' [408], 'fBodyAccJerk-bandsEnergy()-25,48' => 'fBodyAccJerk-bandsEnergy()-25,48_1' [409], 'fBodyAccJerk-bandsEnergy()-1,8' => 'fBodyAccJerk-bandsEnergy()-1,8_2' [410], 'fBodyAccJerk-bandsEnergy()-9,16' => 'fBodyAccJerk-bandsEnergy()-9,16_2' [411], 'fBodyAccJerk-bandsEnergy()-17,24' => 'fBodyAccJerk-bandsEnergy()-17,24_2' [412], 'fBodyAccJerk-bandsEnergy()-25,32' => 'fBodyAccJerk-bandsEnergy()-25,32_2' [413], 'fBodyAccJerk-bandsEnergy()-33,40' => 'fBodyAccJerk-bandsEnergy()-33,40_2' [414], 'fBodyAccJerk-bandsEnergy()-41,48' => 'fBodyAccJerk-bandsEnergy()-41,48_2' [415], 'fBodyAccJerk-bandsEnergy()-49,56' => 'fBodyAccJerk-bandsEnergy()-49,56_2' [416], 'fBodyAccJerk-bandsEnergy()-57,64' => 'fBodyAccJerk-bandsEnergy()-57,64_2' [417], 'fBodyAccJerk-bandsEnergy()-1,16' => 'fBodyAccJerk-bandsEnergy()-1,16_2' [418], 'fBodyAccJerk-bandsEnergy()-17,32' => 'fBodyAccJerk-bandsEnergy()-17,32_2' [419], 'fBodyAccJerk-bandsEnergy()-33,48' => 'fBodyAccJerk-bandsEnergy()-33,48_2' [420], 'fBodyAccJerk-bandsEnergy()-49,64' => 'fBodyAccJerk-bandsEnergy()-49,64_2' [421], 'fBodyAccJerk-bandsEnergy()-1,24' => 'fBodyAccJerk-bandsEnergy()-1,24_2' [422], 'fBodyAccJerk-bandsEnergy()-25,48' => 'fBodyAccJerk-bandsEnergy()-25,48_2' [423], 'fBodyGyro-bandsEnergy()-1,8' => 'fBodyGyro-bandsEnergy()-1,8_1' [475], 'fBodyGyro-bandsEnergy()-9,16' => 'fBodyGyro-bandsEnergy()-9,16_1' [476], 'fBodyGyro-bandsEnergy()-17,24' => 'fBodyGyro-bandsEnergy()-17,24_1' [477], 'fBodyGyro-bandsEnergy()-25,32' => 'fBodyGyro-bandsEnergy()-25,32_1' [478], 'fBodyGyro-bandsEnergy()-33,40' => 'fBodyGyro-bandsEnergy()-33,40_1' [479], 'fBodyGyro-bandsEnergy()-41,48' => 'fBodyGyro-bandsEnergy()-41,48_1' [480], 'fBodyGyro-bandsEnergy()-49,56' => 'fBodyGyro-bandsEnergy()-49,56_1' [481], 'fBodyGyro-bandsEnergy()-57,64' => 'fBodyGyro-bandsEnergy()-57,64_1' [482], 'fBodyGyro-bandsEnergy()-1,16' => 'fBodyGyro-bandsEnergy()-1,16_1' [483], 'fBodyGyro-bandsEnergy()-17,32' => 'fBodyGyro-bandsEnergy()-17,32_1' [484], 'fBodyGyro-bandsEnergy()-33,48' => 'fBodyGyro-bandsEnergy()-33,48_1' [485], 'fBodyGyro-bandsEnergy()-49,64' => 'fBodyGyro-bandsEnergy()-49,64_1' [486], 'fBodyGyro-bandsEnergy()-1,24' => 'fBodyGyro-bandsEnergy()-1,24_1' [487], 'fBodyGyro-bandsEnergy()-25,48' => 'fBodyGyro-bandsEnergy()-25,48_1' [488], 'fBodyGyro-bandsEnergy()-1,8' => 'fBodyGyro-bandsEnergy()-1,8_2' [489], 'fBodyGyro-bandsEnergy()-9,16' => 'fBodyGyro-bandsEnergy()-9,16_2' [490], 'fBodyGyro-bandsEnergy()-17,24' => 'fBodyGyro-bandsEnergy()-17,24_2' [491], 'fBodyGyro-bandsEnergy()-25,32' => 'fBodyGyro-bandsEnergy()-25,32_2' [492], 'fBodyGyro-bandsEnergy()-33,40' => 'fBodyGyro-bandsEnergy()-33,40_2' [493], 'fBodyGyro-bandsEnergy()-41,48' => 'fBodyGyro-bandsEnergy()-41,48_2' [494], 'fBodyGyro-bandsEnergy()-49,56' => 'fBodyGyro-bandsEnergy()-49,56_2' [495], 'fBodyGyro-bandsEnergy()-57,64' => 'fBodyGyro-bandsEnergy()-57,64_2' [496], 'fBodyGyro-bandsEnergy()-1,16' => 'fBodyGyro-bandsEnergy()-1,16_2' [497], 'fBodyGyro-bandsEnergy()-17,32' => 'fBodyGyro-bandsEnergy()-17,32_2' [498], 'fBodyGyro-bandsEnergy()-33,48' => 'fBodyGyro-bandsEnergy()-33,48_2' [499], 'fBodyGyro-bandsEnergy()-49,64' => 'fBodyGyro-bandsEnergy()-49,64_2' [500], 'fBodyGyro-bandsEnergy()-1,24' => 'fBodyGyro-bandsEnergy()-1,24_2' [501], 'fBodyGyro-bandsEnergy()-25,48' => 'fBodyGyro-bandsEnergy()-25,48_2' [502]”\n",
            "Parsed with column specification:\n",
            "cols(\n",
            "  .default = col_double(),\n",
            "  Activity = \u001b[31mcol_character()\u001b[39m\n",
            ")\n",
            "\n",
            "See spec(...) for full column specifications.\n",
            "\n"
          ],
          "name": "stderr"
        },
        {
          "output_type": "display_data",
          "data": {
            "text/plain": [
              "[1] \"angle(tBodyGyroJerkMean,gravityMean)\"\n",
              "[2] \"angle(X,gravityMean)\"                \n",
              "[3] \"angle(Y,gravityMean)\"                \n",
              "[4] \"angle(Z,gravityMean)\"                \n",
              "[5] \"subject\"                             \n",
              "[6] \"Activity\"                            "
            ],
            "text/latex": "\\begin{enumerate*}\n\\item 'angle(tBodyGyroJerkMean,gravityMean)'\n\\item 'angle(X,gravityMean)'\n\\item 'angle(Y,gravityMean)'\n\\item 'angle(Z,gravityMean)'\n\\item 'subject'\n\\item 'Activity'\n\\end{enumerate*}\n",
            "text/markdown": "1. 'angle(tBodyGyroJerkMean,gravityMean)'\n2. 'angle(X,gravityMean)'\n3. 'angle(Y,gravityMean)'\n4. 'angle(Z,gravityMean)'\n5. 'subject'\n6. 'Activity'\n\n\n",
            "text/html": [
              "<style>\n",
              ".list-inline {list-style: none; margin:0; padding: 0}\n",
              ".list-inline>li {display: inline-block}\n",
              ".list-inline>li:not(:last-child)::after {content: \"\\00b7\"; padding: 0 .5ex}\n",
              "</style>\n",
              "<ol class=list-inline><li>'angle(tBodyGyroJerkMean,gravityMean)'</li><li>'angle(X,gravityMean)'</li><li>'angle(Y,gravityMean)'</li><li>'angle(Z,gravityMean)'</li><li>'subject'</li><li>'Activity'</li></ol>\n"
            ]
          },
          "metadata": {
            "tags": []
          }
        }
      ]
    },
    {
      "cell_type": "markdown",
      "metadata": {
        "id": "L8q06nnoModI"
      },
      "source": [
        "## Variables objetivo / explicativas"
      ]
    },
    {
      "cell_type": "code",
      "metadata": {
        "id": "c8vUn5MmK1VE"
      },
      "source": [
        "x_train <- train_df %>%\n",
        "select(-subject, -Activity) %>%\n",
        "as.matrix()"
      ],
      "execution_count": null,
      "outputs": []
    },
    {
      "cell_type": "code",
      "metadata": {
        "id": "cGl2EAuoNxWa"
      },
      "source": [
        "y_train <- train_df %>%\n",
        "mutate(T1 = ifelse(Activity == \"STANDING\", 1, 0),\n",
        "T2 = ifelse(Activity == \"SITTING\", 1, 0),\n",
        "T3 = ifelse(Activity == \"LAYING\", 1, 0),\n",
        "T4 = ifelse(Activity == \"WALKING\", 1, 0),\n",
        "T5 = ifelse(Activity == \"WALKING_DOWNSTAIRS\", 1, 0),\n",
        "T6 = ifelse(Activity == \"WALKING_UPSTAIRS\", 1, 0)) %>%\n",
        "select(T1:T6) %>%\n",
        "as.matrix()"
      ],
      "execution_count": null,
      "outputs": []
    },
    {
      "cell_type": "code",
      "metadata": {
        "id": "vzbQZhgWOsGg"
      },
      "source": [
        "x_cv <- cv_df %>%\n",
        "select(-subject, -Activity) %>%\n",
        "as.matrix()"
      ],
      "execution_count": null,
      "outputs": []
    },
    {
      "cell_type": "code",
      "metadata": {
        "id": "ezTpilMsO-yt"
      },
      "source": [
        "y_cv <- cv_df %>%\n",
        "mutate(T1 = ifelse(Activity == \"STANDING\", 1, 0),\n",
        "T2 = ifelse(Activity == \"SITTING\", 1, 0),\n",
        "T3 = ifelse(Activity == \"LAYING\", 1, 0),\n",
        "T4 = ifelse(Activity == \"WALKING\", 1, 0),\n",
        "T5 = ifelse(Activity == \"WALKING_DOWNSTAIRS\", 1, 0),\n",
        "T6 = ifelse(Activity == \"WALKING_UPSTAIRS\", 1, 0)) %>%\n",
        "select(T1:T6) %>%\n",
        "as.matrix()"
      ],
      "execution_count": null,
      "outputs": []
    },
    {
      "cell_type": "code",
      "metadata": {
        "id": "IVL_dGiePJBV"
      },
      "source": [
        "x_test <- test_df %>%\n",
        "select(-subject, -Activity) %>%\n",
        "as.matrix()"
      ],
      "execution_count": null,
      "outputs": []
    },
    {
      "cell_type": "code",
      "metadata": {
        "id": "VHAAwO9PPl1Y"
      },
      "source": [
        "y_test <- test_df %>%\n",
        "mutate(T1 = ifelse(Activity == \"STANDING\", 1, 0),\n",
        "T2 = ifelse(Activity == \"SITTING\", 1, 0),\n",
        "T3 = ifelse(Activity == \"LAYING\", 1, 0),\n",
        "T4 = ifelse(Activity == \"WALKING\", 1, 0),\n",
        "T5 = ifelse(Activity == \"WALKING_DOWNSTAIRS\", 1, 0),\n",
        "T6 = ifelse(Activity == \"WALKING_UPSTAIRS\", 1, 0)) %>%\n",
        "select(T1:T6) %>%\n",
        "as.matrix()"
      ],
      "execution_count": null,
      "outputs": []
    },
    {
      "cell_type": "markdown",
      "metadata": {
        "id": "4QYYWHUvP-1o"
      },
      "source": [
        "## Uso de TensorFlow"
      ]
    },
    {
      "cell_type": "code",
      "metadata": {
        "id": "tE0tWuhbP7A9",
        "colab": {
          "base_uri": "https://localhost:8080/",
          "height": 51
        },
        "outputId": "9bcab421-6fd9-4b43-e543-b1fc93e78b6c"
      },
      "source": [
        "sess = tf$Session()\n",
        "use_session_with_seed(123)"
      ],
      "execution_count": null,
      "outputs": [
        {
          "output_type": "stream",
          "text": [
            "Set session seed to 123 (disabled GPU, CPU parallelism)\n",
            "\n"
          ],
          "name": "stderr"
        }
      ]
    },
    {
      "cell_type": "markdown",
      "metadata": {
        "id": "ULpybCzbf1DQ"
      },
      "source": [
        "## ¿Cuántas unidades debería tener la capa oculta?\n",
        "\n",
        "Como hablamos anteriormente, podríamos pensar que tendría que haber un número óptimo de unidades en la capa oculta. Este hiperparámetro, llamémoslo M, se determinará en función al análisis del error que haremos a continuación.\n",
        "\n",
        "Vamos a estimar el error aparente que tendría la RNA si M fuese 100, 500, 1000 o 5000. Para eso planteamos un proceso en el que, para cada valor de M que queremos probar, usaremos los datos de entrenamiento para estimar los parámetros de la red y luego los datos de validación para observar el error sobre un conjunto que no haya sido utilizado en la etapa de estimación. Esperamos que esto nos de una idea de qué valor de M podría resultar apropiado."
      ]
    },
    {
      "cell_type": "code",
      "metadata": {
        "id": "Uw4YsWKofWty"
      },
      "source": [
        "M <- c(100, 500, 1000, 5000)\n",
        "\n",
        "M_Unid <- c()\n",
        "Muestra <- c()\n",
        "Err_aparente <- c()\n",
        "Iteracion <- c()\n",
        "Acc_train <- c()\n",
        "Acc_cv <- c()\n",
        "\n",
        "prev_time <- Sys.time()\n",
        "\n",
        "for (i in 1:length(M)) {\n",
        "  \n",
        "  for (j in 1:30) {\n",
        "    \n",
        "    rna1 <- keras_model_sequential() \n",
        "    rna1 %>% \n",
        "      layer_dense(units = M[i], \n",
        "                  activation = 'relu',\n",
        "                  input_shape = c(unit_count)) %>% \n",
        "      layer_dense(units = 6, \n",
        "                  activation = 'softmax')\n",
        "    \n",
        "    rna1 %>% compile(\n",
        "      loss = 'categorical_crossentropy',\n",
        "      optimizer = optimizer_sgd(lr = 0.01),\n",
        "      metrics = c('categorical_accuracy')\n",
        "    )\n",
        "    \n",
        "    history1 <- rna1 %>% \n",
        "      fit(x = x_train, \n",
        "          y = y_train,\n",
        "          epochs = 5,\n",
        "          validation_data = list(x_cv,y_cv))\n",
        "    \n",
        "    \n",
        "    \n",
        "    Iteracion <- c(Iteracion, replicate(2,j))\n",
        "    \n",
        "    M_Unid <- c(M_Unid, replicate(2,M[i]))\n",
        "    \n",
        "    Muestra <- c(Muestra,\n",
        "                 \"Entrenamiento\",\n",
        "                 \"Validación\")\n",
        "    \n",
        "    Acc_train <- rna1 %>% evaluate(x_train, y_train)\n",
        "    \n",
        "    Acc_cv <- rna1 %>% evaluate(x_cv, y_cv)\n",
        "    \n",
        "    Err_aparente <- c(Err_aparente,\n",
        "                      1-Acc_train$categorical_accuracy,\n",
        "                      1-Acc_cv$categorical_accuracy)\n",
        "    \n",
        "  }\n",
        "}\n",
        "\n",
        "pos_time <- Sys.time()"
      ],
      "execution_count": null,
      "outputs": []
    },
    {
      "cell_type": "code",
      "metadata": {
        "id": "ywRLXPmWfnnA",
        "colab": {
          "base_uri": "https://localhost:8080/",
          "height": 34
        },
        "outputId": "0ecefefa-b791-40be-9011-a16430e2e4da"
      },
      "source": [
        "pos_time - prev_time"
      ],
      "execution_count": null,
      "outputs": [
        {
          "output_type": "display_data",
          "data": {
            "text/plain": [
              "Time difference of 22.77968 mins"
            ]
          },
          "metadata": {
            "tags": []
          }
        }
      ]
    },
    {
      "cell_type": "code",
      "metadata": {
        "id": "uDZJyRB8RF-9"
      },
      "source": [
        "selec_M <- data.frame(M_Unid, Muestra, Err_aparente)"
      ],
      "execution_count": null,
      "outputs": []
    },
    {
      "cell_type": "code",
      "metadata": {
        "id": "gTssaBx5Tnyw",
        "colab": {
          "base_uri": "https://localhost:8080/",
          "height": 437
        },
        "outputId": "41850b99-dead-4c65-99cc-9a61b9e7f36a"
      },
      "source": [
        "ggplot(data = selec_M,\n",
        "       aes(x = factor(M_Unid),\n",
        "           y = Err_aparente,\n",
        "           fill = Muestra)) +\n",
        "  geom_boxplot() +\n",
        "  scale_y_continuous(labels = scales::percent_format(1)) + \n",
        "  labs(x = \"M\",\n",
        "       y = \"Error aparente\")"
      ],
      "execution_count": null,
      "outputs": [
        {
          "output_type": "display_data",
          "data": {
            "image/png": "[encoded data removed]",
            "text/plain": [
              "plot without title"
            ]
          },
          "metadata": {
            "tags": [],
            "image/png": {
              "width": 420,
              "height": 420
            },
            "text/plain": {
              "width": 420,
              "height": 420
            }
          }
        }
      ]
    },
    {
      "cell_type": "markdown",
      "metadata": {
        "id": "VuunpzG2uLHB"
      },
      "source": [
        "## Otra estrategia\n",
        "\n",
        "Otra manera de proceder sería eligiendo un valor de M grande (grande sería al menos mayor que la cantidad de unidades en la capa de entrada) y, en la función de costo que utilizamos para la estimación de los parámetros, introducir un parámetro de penalización que fuerce a aquellos parámetros que no tengan mucho sustento en los datos a tener un peso bajo.\n",
        "\n",
        "Para hacer esto, podemos plantear algunos valores del parámetro de penalización y proceder de la misma manera que cuando probamos distintos valores de M, solamente que ahora tendríamos que fijar M en un valor \"grande\" y hacer variar la penalización, a la que llamaremos  λ  (en el código está como lambda)."
      ]
    },
    {
      "cell_type": "code",
      "metadata": {
        "id": "zhilueyNv-gU"
      },
      "source": [
        "lambda <- c(0, 0.01, 0.1, 1, 10)\n",
        "\n",
        "Reg_param <- c()\n",
        "Muestra <- c()\n",
        "Err_aparente <- c()\n",
        "Iteracion <- c()\n",
        "Acc_train <- c()\n",
        "Acc_cv <- c()\n",
        "\n",
        "prev_time2 <- Sys.time()\n",
        "\n",
        "for (i in 1:length(lambda)) {\n",
        "  \n",
        "  for (j in 1:30) {\n",
        "    \n",
        "    rna1 <- keras_model_sequential() \n",
        "    rna1 %>% \n",
        "      layer_dense(units = 1000, \n",
        "                  activation = 'relu', \n",
        "                  kernel_regularizer = regularizer_l2(lambda[i]),\n",
        "                  input_shape = c(unit_count)) %>% \n",
        "      layer_dense(units = 6, \n",
        "                  activation = 'softmax')\n",
        "    \n",
        "    rna1 %>% compile(\n",
        "      loss = 'categorical_crossentropy',\n",
        "      optimizer = optimizer_sgd(lr = 0.01),\n",
        "      metrics = c('categorical_accuracy')\n",
        "    )\n",
        "    \n",
        "    history1 <- rna1 %>% \n",
        "      fit(x = x_train, \n",
        "          y = y_train,\n",
        "          epochs = 5,\n",
        "          validation_data = list(x_cv,y_cv))\n",
        "    \n",
        "    \n",
        "    \n",
        "    Iteracion <- c(Iteracion, replicate(2,j))\n",
        "    \n",
        "    Reg_param <- c(Reg_param, replicate(2,lambda[i]))\n",
        "    \n",
        "    Muestra <- c(Muestra,\n",
        "                 \"Entrenamiento\",\n",
        "                 \"Validación\")\n",
        "    \n",
        "    Acc_train <- rna1 %>% evaluate(x_train, y_train)\n",
        "    \n",
        "    Acc_cv <- rna1 %>% evaluate(x_cv, y_cv)\n",
        "    \n",
        "    Err_aparente <- c(Err_aparente,\n",
        "                      1-Acc_train$categorical_accuracy,\n",
        "                      1-Acc_cv$categorical_accuracy)\n",
        "    \n",
        "  }\n",
        "}\n",
        "\n",
        "pos_time2 <- Sys.time()"
      ],
      "execution_count": null,
      "outputs": []
    },
    {
      "cell_type": "code",
      "metadata": {
        "id": "20f-yXYMwGCt",
        "colab": {
          "base_uri": "https://localhost:8080/",
          "height": 34
        },
        "outputId": "4324569b-34c0-437b-d599-46d5db9c9988"
      },
      "source": [
        "pos_time2 - prev_time2"
      ],
      "execution_count": null,
      "outputs": [
        {
          "output_type": "display_data",
          "data": {
            "text/plain": [
              "Time difference of 51.70805 mins"
            ]
          },
          "metadata": {
            "tags": []
          }
        }
      ]
    },
    {
      "cell_type": "code",
      "metadata": {
        "id": "HO6A-KQJwJGU"
      },
      "source": [
        "selec_lambda <- data.frame(Reg_param, Muestra, Err_aparente)"
      ],
      "execution_count": null,
      "outputs": []
    },
    {
      "cell_type": "code",
      "metadata": {
        "id": "22BgN1hVwMge",
        "colab": {
          "base_uri": "https://localhost:8080/",
          "height": 437
        },
        "outputId": "d60f7a66-bb47-4597-cad0-228905ff6e27"
      },
      "source": [
        "ggplot(data = selec_lambda,\n",
        "       aes(x = factor(Reg_param),\n",
        "           y = Err_aparente, \n",
        "           fill = Muestra)) +\n",
        "geom_boxplot() +\n",
        "scale_y_continuous(labels = scales::percent_format(1)) +\n",
        "labs(x = expression(lambda),\n",
        "     y = \"Error aparente\")"
      ],
      "execution_count": null,
      "outputs": [
        {
          "output_type": "display_data",
          "data": {
            "image/png": "[encoded data removed]",
            "text/plain": [
              "plot without title"
            ]
          },
          "metadata": {
            "tags": [],
            "image/png": {
              "width": 420,
              "height": 420
            },
            "text/plain": {
              "width": 420,
              "height": 420
            }
          }
        }
      ]
    },
    {
      "cell_type": "markdown",
      "metadata": {
        "id": "0AWn2PTuQY0S"
      },
      "source": [
        "## Diseño seleccionado"
      ]
    },
    {
      "cell_type": "code",
      "metadata": {
        "id": "uSjrN1nrQMvz"
      },
      "source": [
        "#Cant. unidades de entrada:\n",
        "unit_count <- ncol(x_train)"
      ],
      "execution_count": null,
      "outputs": []
    },
    {
      "cell_type": "code",
      "metadata": {
        "id": "Kp8dS-SuQXYC"
      },
      "source": [
        "set.seed(123)\n",
        "\n",
        "rna1 <- keras_model_sequential() \n",
        "rna1 %>% \n",
        "  layer_dense(units = 500, \n",
        "              activation = 'relu', \n",
        "              input_shape = c(unit_count)) %>% \n",
        "  layer_dense(units = 6, \n",
        "              activation = 'softmax')\n",
        "\n",
        "rna1 %>% compile(\n",
        "  loss = 'categorical_crossentropy',\n",
        "  optimizer = optimizer_sgd(lr = 0.01),\n",
        "  metrics = c('categorical_accuracy')\n",
        ")\n",
        "\n",
        "history1 <- rna1 %>% \n",
        "  fit(x = x_train, \n",
        "      y = y_train,\n",
        "      validation_data = list(x_cv,y_cv))"
      ],
      "execution_count": null,
      "outputs": []
    },
    {
      "cell_type": "code",
      "metadata": {
        "id": "peiMDoWufIII",
        "colab": {
          "base_uri": "https://localhost:8080/",
          "height": 113
        },
        "outputId": "05d01b06-2221-481b-afc8-8f4d2638e9cc"
      },
      "source": [
        "# Precisión en la muestra de entrenamiento\n",
        "rna1 %>% evaluate(x_train, y_train)"
      ],
      "execution_count": null,
      "outputs": [
        {
          "output_type": "display_data",
          "data": {
            "text/plain": [
              "$loss\n",
              "[1] 0.2274861\n",
              "\n",
              "$categorical_accuracy\n",
              "[1] 0.9086059\n"
            ],
            "text/latex": "\\begin{description}\n\\item[\\$loss] 0.227486076878612\n\\item[\\$categorical\\_accuracy] 0.908605873584747\n\\end{description}\n",
            "text/markdown": "$loss\n:   0.227486076878612\n$categorical_accuracy\n:   0.908605873584747\n\n\n",
            "text/html": [
              "<dl>\n",
              "\t<dt>$loss</dt>\n",
              "\t\t<dd>0.227486076878612</dd>\n",
              "\t<dt>$categorical_accuracy</dt>\n",
              "\t\t<dd>0.908605873584747</dd>\n",
              "</dl>\n"
            ]
          },
          "metadata": {
            "tags": []
          }
        }
      ]
    },
    {
      "cell_type": "code",
      "metadata": {
        "id": "QqZ6pU-WfJ6Z",
        "colab": {
          "base_uri": "https://localhost:8080/",
          "height": 113
        },
        "outputId": "5cf36125-c54b-4b15-9fb1-70872b441a47"
      },
      "source": [
        "# Precisión en la muestra de validación\n",
        "rna1 %>% evaluate(x_cv, y_cv)"
      ],
      "execution_count": null,
      "outputs": [
        {
          "output_type": "display_data",
          "data": {
            "text/plain": [
              "$loss\n",
              "[1] 0.3220362\n",
              "\n",
              "$categorical_accuracy\n",
              "[1] 0.885564\n"
            ],
            "text/latex": "\\begin{description}\n\\item[\\$loss] 0.322036230889483\n\\item[\\$categorical\\_accuracy] 0.885563969612122\n\\end{description}\n",
            "text/markdown": "$loss\n:   0.322036230889483\n$categorical_accuracy\n:   0.885563969612122\n\n\n",
            "text/html": [
              "<dl>\n",
              "\t<dt>$loss</dt>\n",
              "\t\t<dd>0.322036230889483</dd>\n",
              "\t<dt>$categorical_accuracy</dt>\n",
              "\t\t<dd>0.885563969612122</dd>\n",
              "</dl>\n"
            ]
          },
          "metadata": {
            "tags": []
          }
        }
      ]
    },
    {
      "cell_type": "code",
      "metadata": {
        "id": "WJT7lAJIe_W9",
        "colab": {
          "base_uri": "https://localhost:8080/",
          "height": 113
        },
        "outputId": "1c68e982-dead-4b44-dee9-9de67bd805d2"
      },
      "source": [
        "# Precisión en la muestra de test\n",
        "rna1 %>% evaluate(x_test, y_test)"
      ],
      "execution_count": null,
      "outputs": [
        {
          "output_type": "display_data",
          "data": {
            "text/plain": [
              "$loss\n",
              "[1] 0.2895159\n",
              "\n",
              "$categorical_accuracy\n",
              "[1] 0.8961656\n"
            ],
            "text/latex": "\\begin{description}\n\\item[\\$loss] 0.289515940787876\n\\item[\\$categorical\\_accuracy] 0.896165609359741\n\\end{description}\n",
            "text/markdown": "$loss\n:   0.289515940787876\n$categorical_accuracy\n:   0.896165609359741\n\n\n",
            "text/html": [
              "<dl>\n",
              "\t<dt>$loss</dt>\n",
              "\t\t<dd>0.289515940787876</dd>\n",
              "\t<dt>$categorical_accuracy</dt>\n",
              "\t\t<dd>0.896165609359741</dd>\n",
              "</dl>\n"
            ]
          },
          "metadata": {
            "tags": []
          }
        }
      ]
    }
  ]
}