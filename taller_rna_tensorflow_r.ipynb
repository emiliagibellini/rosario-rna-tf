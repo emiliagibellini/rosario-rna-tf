{
  "nbformat": 4,
  "nbformat_minor": 0,
  "metadata": {
    "kernelspec": {
      "display_name": "R",
      "language": "R",
      "name": "ir"
    },
    "language_info": {
      "codemirror_mode": "r",
      "file_extension": ".r",
      "mimetype": "text/x-r-source",
      "name": "R",
      "pygments_lexer": "r",
      "version": "3.6.1"
    },
    "colab": {
      "name": "taller_rna_tensorflow_r.ipynb",
      "provenance": [],
      "include_colab_link": true
    }
  },
  "cells": [
    {
      "cell_type": "markdown",
      "metadata": {
        "id": "view-in-github",
        "colab_type": "text"
      },
      "source": [
        "<a href=\"https://colab.research.google.com/github/emiliagibellini/rosario-rna-tf/blob/main/taller_rna_tensorflow_r.ipynb\" target=\"_parent\"><img src=\"https://colab.research.google.com/assets/colab-badge.svg\" alt=\"Open In Colab\"/></a>"
      ]
    },
    {
      "cell_type": "markdown",
      "metadata": {
        "id": "nWVpg96HGRJ8"
      },
      "source": [
        "# Redes Neuronales Artificiales\n",
        "## Aplicación a datos de reconocimiento de actividad humana con smartphones\n",
        "\n",
        "https://www.kaggle.com/uciml/human-activity-recognition-with-smartphones"
      ]
    },
    {
      "cell_type": "markdown",
      "metadata": {
        "id": "g2pe5Nl9GRJ_"
      },
      "source": [
        "### Librerías"
      ]
    },
    {
      "cell_type": "code",
      "metadata": {
        "id": "LlQDZBalGRKA"
      },
      "source": [
        "# install.packages('dplyr')\n",
        "# install.packages('tidyverse')\n",
        "# install.packages('tensorflow')\n",
        "# install.packages('tfestimators')\n",
        "# install.packages('keras')"
      ],
      "execution_count": null,
      "outputs": []
    },
    {
      "cell_type": "code",
      "metadata": {
        "id": "6Cr_EHEHGRKA"
      },
      "source": [
        "library(tidyverse)\n",
        "library(tensorflow)\n",
        "library(tfestimators)\n",
        "library(keras)"
      ],
      "execution_count": null,
      "outputs": []
    },
    {
      "cell_type": "markdown",
      "metadata": {
        "id": "e8M8jShjGRKB"
      },
      "source": [
        "### Datos de entrenamiento, validación y test"
      ]
    },
    {
      "cell_type": "code",
      "metadata": {
        "collapsed": true,
        "id": "QDjQ_QbaGRKB",
        "outputId": "d63f1888-1ca4-4cbb-8dc8-15e85dfc1446"
      },
      "source": [
        "train_df <- read_csv('train.csv')"
      ],
      "execution_count": null,
      "outputs": [
        {
          "output_type": "stream",
          "text": [
            "Warning message:\n",
            "\"Duplicated column names deduplicated: 'fBodyAcc-bandsEnergy()-1,8' => 'fBodyAcc-bandsEnergy()-1,8_1' [317], 'fBodyAcc-bandsEnergy()-9,16' => 'fBodyAcc-bandsEnergy()-9,16_1' [318], 'fBodyAcc-bandsEnergy()-17,24' => 'fBodyAcc-bandsEnergy()-17,24_1' [319], 'fBodyAcc-bandsEnergy()-25,32' => 'fBodyAcc-bandsEnergy()-25,32_1' [320], 'fBodyAcc-bandsEnergy()-33,40' => 'fBodyAcc-bandsEnergy()-33,40_1' [321], 'fBodyAcc-bandsEnergy()-41,48' => 'fBodyAcc-bandsEnergy()-41,48_1' [322], 'fBodyAcc-bandsEnergy()-49,56' => 'fBodyAcc-bandsEnergy()-49,56_1' [323], 'fBodyAcc-bandsEnergy()-57,64' => 'fBodyAcc-bandsEnergy()-57,64_1' [324], 'fBodyAcc-bandsEnergy()-1,16' => 'fBodyAcc-bandsEnergy()-1,16_1' [325], 'fBodyAcc-bandsEnergy()-17,32' => 'fBodyAcc-bandsEnergy()-17,32_1' [326], 'fBodyAcc-bandsEnergy()-33,48' => 'fBodyAcc-bandsEnergy()-33,48_1' [327], 'fBodyAcc-bandsEnergy()-49,64' => 'fBodyAcc-bandsEnergy()-49,64_1' [328], 'fBodyAcc-bandsEnergy()-1,24' => 'fBodyAcc-bandsEnergy()-1,24_1' [329], 'fBodyAcc-bandsEnergy()-25,48' => 'fBodyAcc-bandsEnergy()-25,48_1' [330], 'fBodyAcc-bandsEnergy()-1,8' => 'fBodyAcc-bandsEnergy()-1,8_2' [331], 'fBodyAcc-bandsEnergy()-9,16' => 'fBodyAcc-bandsEnergy()-9,16_2' [332], 'fBodyAcc-bandsEnergy()-17,24' => 'fBodyAcc-bandsEnergy()-17,24_2' [333], 'fBodyAcc-bandsEnergy()-25,32' => 'fBodyAcc-bandsEnergy()-25,32_2' [334], 'fBodyAcc-bandsEnergy()-33,40' => 'fBodyAcc-bandsEnergy()-33,40_2' [335], 'fBodyAcc-bandsEnergy()-41,48' => 'fBodyAcc-bandsEnergy()-41,48_2' [336], 'fBodyAcc-bandsEnergy()-49,56' => 'fBodyAcc-bandsEnergy()-49,56_2' [337], 'fBodyAcc-bandsEnergy()-57,64' => 'fBodyAcc-bandsEnergy()-57,64_2' [338], 'fBodyAcc-bandsEnergy()-1,16' => 'fBodyAcc-bandsEnergy()-1,16_2' [339], 'fBodyAcc-bandsEnergy()-17,32' => 'fBodyAcc-bandsEnergy()-17,32_2' [340], 'fBodyAcc-bandsEnergy()-33,48' => 'fBodyAcc-bandsEnergy()-33,48_2' [341], 'fBodyAcc-bandsEnergy()-49,64' => 'fBodyAcc-bandsEnergy()-49,64_2' [342], 'fBodyAcc-bandsEnergy()-1,24' => 'fBodyAcc-bandsEnergy()-1,24_2' [343], 'fBodyAcc-bandsEnergy()-25,48' => 'fBodyAcc-bandsEnergy()-25,48_2' [344], 'fBodyAccJerk-bandsEnergy()-1,8' => 'fBodyAccJerk-bandsEnergy()-1,8_1' [396], 'fBodyAccJerk-bandsEnergy()-9,16' => 'fBodyAccJerk-bandsEnergy()-9,16_1' [397], 'fBodyAccJerk-bandsEnergy()-17,24' => 'fBodyAccJerk-bandsEnergy()-17,24_1' [398], 'fBodyAccJerk-bandsEnergy()-25,32' => 'fBodyAccJerk-bandsEnergy()-25,32_1' [399], 'fBodyAccJerk-bandsEnergy()-33,40' => 'fBodyAccJerk-bandsEnergy()-33,40_1' [400], 'fBodyAccJerk-bandsEnergy()-41,48' => 'fBodyAccJerk-bandsEnergy()-41,48_1' [401], 'fBodyAccJerk-bandsEnergy()-49,56' => 'fBodyAccJerk-bandsEnergy()-49,56_1' [402], 'fBodyAccJerk-bandsEnergy()-57,64' => 'fBodyAccJerk-bandsEnergy()-57,64_1' [403], 'fBodyAccJerk-bandsEnergy()-1,16' => 'fBodyAccJerk-bandsEnergy()-1,16_1' [404], 'fBodyAccJerk-bandsEnergy()-17,32' => 'fBodyAccJerk-bandsEnergy()-17,32_1' [405], 'fBodyAccJerk-bandsEnergy()-33,48' => 'fBodyAccJerk-bandsEnergy()-33,48_1' [406], 'fBodyAccJerk-bandsEnergy()-49,64' => 'fBodyAccJerk-bandsEnergy()-49,64_1' [407], 'fBodyAccJerk-bandsEnergy()-1,24' => 'fBodyAccJerk-bandsEnergy()-1,24_1' [408], 'fBodyAccJerk-bandsEnergy()-25,48' => 'fBodyAccJerk-bandsEnergy()-25,48_1' [409], 'fBodyAccJerk-bandsEnergy()-1,8' => 'fBodyAccJerk-bandsEnergy()-1,8_2' [410], 'fBodyAccJerk-bandsEnergy()-9,16' => 'fBodyAccJerk-bandsEnergy()-9,16_2' [411], 'fBodyAccJerk-bandsEnergy()-17,24' => 'fBodyAccJerk-bandsEnergy()-17,24_2' [412], 'fBodyAccJerk-bandsEnergy()-25,32' => 'fBodyAccJerk-bandsEnergy()-25,32_2' [413], 'fBodyAccJerk-bandsEnergy()-33,40' => 'fBodyAccJerk-bandsEnergy()-33,40_2' [414], 'fBodyAccJerk-bandsEnergy()-41,48' => 'fBodyAccJerk-bandsEnergy()-41,48_2' [415], 'fBodyAccJerk-bandsEnergy()-49,56' => 'fBodyAccJerk-bandsEnergy()-49,56_2' [416], 'fBodyAccJerk-bandsEnergy()-57,64' => 'fBodyAccJerk-bandsEnergy()-57,64_2' [417], 'fBodyAccJerk-bandsEnergy()-1,16' => 'fBodyAccJerk-bandsEnergy()-1,16_2' [418], 'fBodyAccJerk-bandsEnergy()-17,32' => 'fBodyAccJerk-bandsEnergy()-17,32_2' [419], 'fBodyAccJerk-bandsEnergy()-33,48' => 'fBodyAccJerk-bandsEnergy()-33,48_2' [420], 'fBodyAccJerk-bandsEnergy()-49,64' => 'fBodyAccJerk-bandsEnergy()-49,64_2' [421], 'fBodyAccJerk-bandsEnergy()-1,24' => 'fBodyAccJerk-bandsEnergy()-1,24_2' [422], 'fBodyAccJerk-bandsEnergy()-25,48' => 'fBodyAccJerk-bandsEnergy()-25,48_2' [423], 'fBodyGyro-bandsEnergy()-1,8' => 'fBodyGyro-bandsEnergy()-1,8_1' [475], 'fBodyGyro-bandsEnergy()-9,16' => 'fBodyGyro-bandsEnergy()-9,16_1' [476], 'fBodyGyro-bandsEnergy()-17,24' => 'fBodyGyro-bandsEnergy()-17,24_1' [477], 'fBodyGyro-bandsEnergy()-25,32' => 'fBodyGyro-bandsEnergy()-25,32_1' [478], 'fBodyGyro-bandsEnergy()-33,40' => 'fBodyGyro-bandsEnergy()-33,40_1' [479], 'fBodyGyro-bandsEnergy()-41,48' => 'fBodyGyro-bandsEnergy()-41,48_1' [480], 'fBodyGyro-bandsEnergy()-49,56' => 'fBodyGyro-bandsEnergy()-49,56_1' [481], 'fBodyGyro-bandsEnergy()-57,64' => 'fBodyGyro-bandsEnergy()-57,64_1' [482], 'fBodyGyro-bandsEnergy()-1,16' => 'fBodyGyro-bandsEnergy()-1,16_1' [483], 'fBodyGyro-bandsEnergy()-17,32' => 'fBodyGyro-bandsEnergy()-17,32_1' [484], 'fBodyGyro-bandsEnergy()-33,48' => 'fBodyGyro-bandsEnergy()-33,48_1' [485], 'fBodyGyro-bandsEnergy()-49,64' => 'fBodyGyro-bandsEnergy()-49,64_1' [486], 'fBodyGyro-bandsEnergy()-1,24' => 'fBodyGyro-bandsEnergy()-1,24_1' [487], 'fBodyGyro-bandsEnergy()-25,48' => 'fBodyGyro-bandsEnergy()-25,48_1' [488], 'fBodyGyro-bandsEnergy()-1,8' => 'fBodyGyro-bandsEnergy()-1,8_2' [489], 'fBodyGyro-bandsEnergy()-9,16' => 'fBodyGyro-bandsEnergy()-9,16_2' [490], 'fBodyGyro-bandsEnergy()-17,24' => 'fBodyGyro-bandsEnergy()-17,24_2' [491], 'fBodyGyro-bandsEnergy()-25,32' => 'fBodyGyro-bandsEnergy()-25,32_2' [492], 'fBodyGyro-bandsEnergy()-33,40' => 'fBodyGyro-bandsEnergy()-33,40_2' [493], 'fBodyGyro-bandsEnergy()-41,48' => 'fBodyGyro-bandsEnergy()-41,48_2' [494], 'fBodyGyro-bandsEnergy()-49,56' => 'fBodyGyro-bandsEnergy()-49,56_2' [495], 'fBodyGyro-bandsEnergy()-57,64' => 'fBodyGyro-bandsEnergy()-57,64_2' [496], 'fBodyGyro-bandsEnergy()-1,16' => 'fBodyGyro-bandsEnergy()-1,16_2' [497], 'fBodyGyro-bandsEnergy()-17,32' => 'fBodyGyro-bandsEnergy()-17,32_2' [498], 'fBodyGyro-bandsEnergy()-33,48' => 'fBodyGyro-bandsEnergy()-33,48_2' [499], 'fBodyGyro-bandsEnergy()-49,64' => 'fBodyGyro-bandsEnergy()-49,64_2' [500], 'fBodyGyro-bandsEnergy()-1,24' => 'fBodyGyro-bandsEnergy()-1,24_2' [501], 'fBodyGyro-bandsEnergy()-25,48' => 'fBodyGyro-bandsEnergy()-25,48_2' [502]\"Parsed with column specification:\n",
            "cols(\n",
            "  .default = col_double(),\n",
            "  Activity = col_character()\n",
            ")\n",
            "See spec(...) for full column specifications.\n"
          ],
          "name": "stderr"
        }
      ]
    },
    {
      "cell_type": "code",
      "metadata": {
        "id": "mvh5_L53GRKC",
        "outputId": "5ae7c2d3-f70d-446d-c1db-8146898eef53"
      },
      "source": [
        "head(train_df)"
      ],
      "execution_count": null,
      "outputs": [
        {
          "output_type": "display_data",
          "data": {
            "text/html": [
              "<table>\n",
              "<thead><tr><th scope=col>tBodyAcc-mean()-X</th><th scope=col>tBodyAcc-mean()-Y</th><th scope=col>tBodyAcc-mean()-Z</th><th scope=col>tBodyAcc-std()-X</th><th scope=col>tBodyAcc-std()-Y</th><th scope=col>tBodyAcc-std()-Z</th><th scope=col>tBodyAcc-mad()-X</th><th scope=col>tBodyAcc-mad()-Y</th><th scope=col>tBodyAcc-mad()-Z</th><th scope=col>tBodyAcc-max()-X</th><th scope=col>...</th><th scope=col>fBodyBodyGyroJerkMag-kurtosis()</th><th scope=col>angle(tBodyAccMean,gravity)</th><th scope=col>angle(tBodyAccJerkMean),gravityMean)</th><th scope=col>angle(tBodyGyroMean,gravityMean)</th><th scope=col>angle(tBodyGyroJerkMean,gravityMean)</th><th scope=col>angle(X,gravityMean)</th><th scope=col>angle(Y,gravityMean)</th><th scope=col>angle(Z,gravityMean)</th><th scope=col>subject</th><th scope=col>Activity</th></tr></thead>\n",
              "<tbody>\n",
              "\t<tr><td>0.2885845   </td><td>-0.02029417 </td><td>-0.1329051  </td><td>-0.9952786  </td><td>-0.9831106  </td><td>-0.9135264  </td><td>-0.9951121  </td><td>-0.9831846  </td><td>-0.9235270  </td><td>-0.9347238  </td><td>...         </td><td>-0.7103041  </td><td>-0.11275434 </td><td> 0.030400372</td><td>-0.4647614  </td><td>-0.01844588 </td><td>-0.8412468  </td><td>0.1799406   </td><td>-0.05862692 </td><td>1           </td><td>STANDING    </td></tr>\n",
              "\t<tr><td>0.2784188   </td><td>-0.01641057 </td><td>-0.1235202  </td><td>-0.9982453  </td><td>-0.9753002  </td><td>-0.9603220  </td><td>-0.9988072  </td><td>-0.9749144  </td><td>-0.9576862  </td><td>-0.9430675  </td><td>...         </td><td>-0.8614993  </td><td> 0.05347695 </td><td>-0.007434566</td><td>-0.7326262  </td><td> 0.70351059 </td><td>-0.8447876  </td><td>0.1802889   </td><td>-0.05431672 </td><td>1           </td><td>STANDING    </td></tr>\n",
              "\t<tr><td>0.2796531   </td><td>-0.01946716 </td><td>-0.1134617  </td><td>-0.9953796  </td><td>-0.9671870  </td><td>-0.9789440  </td><td>-0.9965199  </td><td>-0.9636684  </td><td>-0.9774686  </td><td>-0.9386916  </td><td>...         </td><td>-0.7601037  </td><td>-0.11855926 </td><td> 0.177899480</td><td> 0.1006992  </td><td> 0.80852908 </td><td>-0.8489335  </td><td>0.1806373   </td><td>-0.04911782 </td><td>1           </td><td>STANDING    </td></tr>\n",
              "\t<tr><td>0.2791739   </td><td>-0.02620065 </td><td>-0.1232826  </td><td>-0.9960915  </td><td>-0.9834027  </td><td>-0.9906751  </td><td>-0.9970995  </td><td>-0.9827498  </td><td>-0.9893025  </td><td>-0.9386916  </td><td>...         </td><td>-0.4828445  </td><td>-0.03678797 </td><td>-0.012892494</td><td> 0.6400110  </td><td>-0.48536645 </td><td>-0.8486494  </td><td>0.1819348   </td><td>-0.04766318 </td><td>1           </td><td>STANDING    </td></tr>\n",
              "\t<tr><td>0.2766288   </td><td>-0.01656965 </td><td>-0.1153619  </td><td>-0.9981386  </td><td>-0.9808173  </td><td>-0.9904816  </td><td>-0.9983211  </td><td>-0.9796719  </td><td>-0.9904411  </td><td>-0.9424691  </td><td>...         </td><td>-0.6992052  </td><td> 0.12332005 </td><td> 0.122541960</td><td> 0.6935783  </td><td>-0.61597061 </td><td>-0.8478653  </td><td>0.1851512   </td><td>-0.04389225 </td><td>1           </td><td>STANDING    </td></tr>\n",
              "\t<tr><td>0.2771988   </td><td>-0.01009785 </td><td>-0.1051373  </td><td>-0.9973350  </td><td>-0.9904868  </td><td>-0.9954200  </td><td>-0.9976274  </td><td>-0.9902177  </td><td>-0.9955489  </td><td>-0.9424691  </td><td>...         </td><td>-0.8446193  </td><td> 0.08263215 </td><td>-0.143439010</td><td> 0.2750408  </td><td>-0.36822404 </td><td>-0.8496316  </td><td>0.1848225   </td><td>-0.04212638 </td><td>1           </td><td>STANDING    </td></tr>\n",
              "</tbody>\n",
              "</table>\n"
            ],
            "text/latex": "\\begin{tabular}{r|lllllllllllllllllllllllllllllllllllllllllllllllllllllllllllllllllllllllllllllllllllllllllllllllllllllllllllllllllllllllllllllllllllllllllllllllllllllllllllllllllllllllllllllllllllllllllllllllllllllllllllllllllllllllllllllllllllllllllllllllllllllllllllllllllllllllllllllllllllllllllllllllllllllllllllllllllllllllllllllllllllllllllllllllllllllllllllllllllllllllllllllllllllllllllllllllllllllllllllllllllllllllllllllllllllllllllllllllllllllllllllllllllllllllllllllllllllllllllllllllllllllllllllllllllllllllllllllllllllllllllllllllllllllllllllllllllllllllllllllllllll}\n tBodyAcc-mean()-X & tBodyAcc-mean()-Y & tBodyAcc-mean()-Z & tBodyAcc-std()-X & tBodyAcc-std()-Y & tBodyAcc-std()-Z & tBodyAcc-mad()-X & tBodyAcc-mad()-Y & tBodyAcc-mad()-Z & tBodyAcc-max()-X & ... & fBodyBodyGyroJerkMag-kurtosis() & angle(tBodyAccMean,gravity) & angle(tBodyAccJerkMean),gravityMean) & angle(tBodyGyroMean,gravityMean) & angle(tBodyGyroJerkMean,gravityMean) & angle(X,gravityMean) & angle(Y,gravityMean) & angle(Z,gravityMean) & subject & Activity\\\\\n\\hline\n\t 0.2885845    & -0.02029417  & -0.1329051   & -0.9952786   & -0.9831106   & -0.9135264   & -0.9951121   & -0.9831846   & -0.9235270   & -0.9347238   & ...          & -0.7103041   & -0.11275434  &  0.030400372 & -0.4647614   & -0.01844588  & -0.8412468   & 0.1799406    & -0.05862692  & 1            & STANDING    \\\\\n\t 0.2784188    & -0.01641057  & -0.1235202   & -0.9982453   & -0.9753002   & -0.9603220   & -0.9988072   & -0.9749144   & -0.9576862   & -0.9430675   & ...          & -0.8614993   &  0.05347695  & -0.007434566 & -0.7326262   &  0.70351059  & -0.8447876   & 0.1802889    & -0.05431672  & 1            & STANDING    \\\\\n\t 0.2796531    & -0.01946716  & -0.1134617   & -0.9953796   & -0.9671870   & -0.9789440   & -0.9965199   & -0.9636684   & -0.9774686   & -0.9386916   & ...          & -0.7601037   & -0.11855926  &  0.177899480 &  0.1006992   &  0.80852908  & -0.8489335   & 0.1806373    & -0.04911782  & 1            & STANDING    \\\\\n\t 0.2791739    & -0.02620065  & -0.1232826   & -0.9960915   & -0.9834027   & -0.9906751   & -0.9970995   & -0.9827498   & -0.9893025   & -0.9386916   & ...          & -0.4828445   & -0.03678797  & -0.012892494 &  0.6400110   & -0.48536645  & -0.8486494   & 0.1819348    & -0.04766318  & 1            & STANDING    \\\\\n\t 0.2766288    & -0.01656965  & -0.1153619   & -0.9981386   & -0.9808173   & -0.9904816   & -0.9983211   & -0.9796719   & -0.9904411   & -0.9424691   & ...          & -0.6992052   &  0.12332005  &  0.122541960 &  0.6935783   & -0.61597061  & -0.8478653   & 0.1851512    & -0.04389225  & 1            & STANDING    \\\\\n\t 0.2771988    & -0.01009785  & -0.1051373   & -0.9973350   & -0.9904868   & -0.9954200   & -0.9976274   & -0.9902177   & -0.9955489   & -0.9424691   & ...          & -0.8446193   &  0.08263215  & -0.143439010 &  0.2750408   & -0.36822404  & -0.8496316   & 0.1848225    & -0.04212638  & 1            & STANDING    \\\\\n\\end{tabular}\n",
            "text/markdown": "\n| tBodyAcc-mean()-X | tBodyAcc-mean()-Y | tBodyAcc-mean()-Z | tBodyAcc-std()-X | tBodyAcc-std()-Y | tBodyAcc-std()-Z | tBodyAcc-mad()-X | tBodyAcc-mad()-Y | tBodyAcc-mad()-Z | tBodyAcc-max()-X | ... | fBodyBodyGyroJerkMag-kurtosis() | angle(tBodyAccMean,gravity) | angle(tBodyAccJerkMean),gravityMean) | angle(tBodyGyroMean,gravityMean) | angle(tBodyGyroJerkMean,gravityMean) | angle(X,gravityMean) | angle(Y,gravityMean) | angle(Z,gravityMean) | subject | Activity |\n|---|---|---|---|---|---|---|---|---|---|---|---|---|---|---|---|---|---|---|---|---|\n| 0.2885845    | -0.02029417  | -0.1329051   | -0.9952786   | -0.9831106   | -0.9135264   | -0.9951121   | -0.9831846   | -0.9235270   | -0.9347238   | ...          | -0.7103041   | -0.11275434  |  0.030400372 | -0.4647614   | -0.01844588  | -0.8412468   | 0.1799406    | -0.05862692  | 1            | STANDING     |\n| 0.2784188    | -0.01641057  | -0.1235202   | -0.9982453   | -0.9753002   | -0.9603220   | -0.9988072   | -0.9749144   | -0.9576862   | -0.9430675   | ...          | -0.8614993   |  0.05347695  | -0.007434566 | -0.7326262   |  0.70351059  | -0.8447876   | 0.1802889    | -0.05431672  | 1            | STANDING     |\n| 0.2796531    | -0.01946716  | -0.1134617   | -0.9953796   | -0.9671870   | -0.9789440   | -0.9965199   | -0.9636684   | -0.9774686   | -0.9386916   | ...          | -0.7601037   | -0.11855926  |  0.177899480 |  0.1006992   |  0.80852908  | -0.8489335   | 0.1806373    | -0.04911782  | 1            | STANDING     |\n| 0.2791739    | -0.02620065  | -0.1232826   | -0.9960915   | -0.9834027   | -0.9906751   | -0.9970995   | -0.9827498   | -0.9893025   | -0.9386916   | ...          | -0.4828445   | -0.03678797  | -0.012892494 |  0.6400110   | -0.48536645  | -0.8486494   | 0.1819348    | -0.04766318  | 1            | STANDING     |\n| 0.2766288    | -0.01656965  | -0.1153619   | -0.9981386   | -0.9808173   | -0.9904816   | -0.9983211   | -0.9796719   | -0.9904411   | -0.9424691   | ...          | -0.6992052   |  0.12332005  |  0.122541960 |  0.6935783   | -0.61597061  | -0.8478653   | 0.1851512    | -0.04389225  | 1            | STANDING     |\n| 0.2771988    | -0.01009785  | -0.1051373   | -0.9973350   | -0.9904868   | -0.9954200   | -0.9976274   | -0.9902177   | -0.9955489   | -0.9424691   | ...          | -0.8446193   |  0.08263215  | -0.143439010 |  0.2750408   | -0.36822404  | -0.8496316   | 0.1848225    | -0.04212638  | 1            | STANDING     |\n\n",
            "text/plain": [
              "  tBodyAcc-mean()-X tBodyAcc-mean()-Y tBodyAcc-mean()-Z tBodyAcc-std()-X\n",
              "1 0.2885845         -0.02029417       -0.1329051        -0.9952786      \n",
              "2 0.2784188         -0.01641057       -0.1235202        -0.9982453      \n",
              "3 0.2796531         -0.01946716       -0.1134617        -0.9953796      \n",
              "4 0.2791739         -0.02620065       -0.1232826        -0.9960915      \n",
              "5 0.2766288         -0.01656965       -0.1153619        -0.9981386      \n",
              "6 0.2771988         -0.01009785       -0.1051373        -0.9973350      \n",
              "  tBodyAcc-std()-Y tBodyAcc-std()-Z tBodyAcc-mad()-X tBodyAcc-mad()-Y\n",
              "1 -0.9831106       -0.9135264       -0.9951121       -0.9831846      \n",
              "2 -0.9753002       -0.9603220       -0.9988072       -0.9749144      \n",
              "3 -0.9671870       -0.9789440       -0.9965199       -0.9636684      \n",
              "4 -0.9834027       -0.9906751       -0.9970995       -0.9827498      \n",
              "5 -0.9808173       -0.9904816       -0.9983211       -0.9796719      \n",
              "6 -0.9904868       -0.9954200       -0.9976274       -0.9902177      \n",
              "  tBodyAcc-mad()-Z tBodyAcc-max()-X ... fBodyBodyGyroJerkMag-kurtosis()\n",
              "1 -0.9235270       -0.9347238       ... -0.7103041                     \n",
              "2 -0.9576862       -0.9430675       ... -0.8614993                     \n",
              "3 -0.9774686       -0.9386916       ... -0.7601037                     \n",
              "4 -0.9893025       -0.9386916       ... -0.4828445                     \n",
              "5 -0.9904411       -0.9424691       ... -0.6992052                     \n",
              "6 -0.9955489       -0.9424691       ... -0.8446193                     \n",
              "  angle(tBodyAccMean,gravity) angle(tBodyAccJerkMean),gravityMean)\n",
              "1 -0.11275434                  0.030400372                        \n",
              "2  0.05347695                 -0.007434566                        \n",
              "3 -0.11855926                  0.177899480                        \n",
              "4 -0.03678797                 -0.012892494                        \n",
              "5  0.12332005                  0.122541960                        \n",
              "6  0.08263215                 -0.143439010                        \n",
              "  angle(tBodyGyroMean,gravityMean) angle(tBodyGyroJerkMean,gravityMean)\n",
              "1 -0.4647614                       -0.01844588                         \n",
              "2 -0.7326262                        0.70351059                         \n",
              "3  0.1006992                        0.80852908                         \n",
              "4  0.6400110                       -0.48536645                         \n",
              "5  0.6935783                       -0.61597061                         \n",
              "6  0.2750408                       -0.36822404                         \n",
              "  angle(X,gravityMean) angle(Y,gravityMean) angle(Z,gravityMean) subject\n",
              "1 -0.8412468           0.1799406            -0.05862692          1      \n",
              "2 -0.8447876           0.1802889            -0.05431672          1      \n",
              "3 -0.8489335           0.1806373            -0.04911782          1      \n",
              "4 -0.8486494           0.1819348            -0.04766318          1      \n",
              "5 -0.8478653           0.1851512            -0.04389225          1      \n",
              "6 -0.8496316           0.1848225            -0.04212638          1      \n",
              "  Activity\n",
              "1 STANDING\n",
              "2 STANDING\n",
              "3 STANDING\n",
              "4 STANDING\n",
              "5 STANDING\n",
              "6 STANDING"
            ]
          },
          "metadata": {
            "tags": []
          }
        }
      ]
    },
    {
      "cell_type": "code",
      "metadata": {
        "id": "55C-2YX9GRKD",
        "outputId": "a8aa393f-be65-466f-c4d1-bc03fa59b0eb"
      },
      "source": [
        "head(variable.names(train_df))"
      ],
      "execution_count": null,
      "outputs": [
        {
          "output_type": "display_data",
          "data": {
            "text/html": [
              "<ol class=list-inline>\n",
              "\t<li>'tBodyAcc-mean()-X'</li>\n",
              "\t<li>'tBodyAcc-mean()-Y'</li>\n",
              "\t<li>'tBodyAcc-mean()-Z'</li>\n",
              "\t<li>'tBodyAcc-std()-X'</li>\n",
              "\t<li>'tBodyAcc-std()-Y'</li>\n",
              "\t<li>'tBodyAcc-std()-Z'</li>\n",
              "</ol>\n"
            ],
            "text/latex": "\\begin{enumerate*}\n\\item 'tBodyAcc-mean()-X'\n\\item 'tBodyAcc-mean()-Y'\n\\item 'tBodyAcc-mean()-Z'\n\\item 'tBodyAcc-std()-X'\n\\item 'tBodyAcc-std()-Y'\n\\item 'tBodyAcc-std()-Z'\n\\end{enumerate*}\n",
            "text/markdown": "1. 'tBodyAcc-mean()-X'\n2. 'tBodyAcc-mean()-Y'\n3. 'tBodyAcc-mean()-Z'\n4. 'tBodyAcc-std()-X'\n5. 'tBodyAcc-std()-Y'\n6. 'tBodyAcc-std()-Z'\n\n\n",
            "text/plain": [
              "[1] \"tBodyAcc-mean()-X\" \"tBodyAcc-mean()-Y\" \"tBodyAcc-mean()-Z\"\n",
              "[4] \"tBodyAcc-std()-X\"  \"tBodyAcc-std()-Y\"  \"tBodyAcc-std()-Z\" "
            ]
          },
          "metadata": {
            "tags": []
          }
        }
      ]
    },
    {
      "cell_type": "markdown",
      "metadata": {
        "id": "zjlG_z65GRKD"
      },
      "source": [
        "Las últimas dos columnas contienen el sujeto y la actividad que estaba realizando."
      ]
    },
    {
      "cell_type": "code",
      "metadata": {
        "id": "OicBPp36GRKD",
        "outputId": "01c5cda4-fe2b-4c0b-bef0-f83edcb750a1"
      },
      "source": [
        "tail(variable.names(train_df))"
      ],
      "execution_count": null,
      "outputs": [
        {
          "output_type": "display_data",
          "data": {
            "text/html": [
              "<ol class=list-inline>\n",
              "\t<li>'angle(tBodyGyroJerkMean,gravityMean)'</li>\n",
              "\t<li>'angle(X,gravityMean)'</li>\n",
              "\t<li>'angle(Y,gravityMean)'</li>\n",
              "\t<li>'angle(Z,gravityMean)'</li>\n",
              "\t<li>'subject'</li>\n",
              "\t<li>'Activity'</li>\n",
              "</ol>\n"
            ],
            "text/latex": "\\begin{enumerate*}\n\\item 'angle(tBodyGyroJerkMean,gravityMean)'\n\\item 'angle(X,gravityMean)'\n\\item 'angle(Y,gravityMean)'\n\\item 'angle(Z,gravityMean)'\n\\item 'subject'\n\\item 'Activity'\n\\end{enumerate*}\n",
            "text/markdown": "1. 'angle(tBodyGyroJerkMean,gravityMean)'\n2. 'angle(X,gravityMean)'\n3. 'angle(Y,gravityMean)'\n4. 'angle(Z,gravityMean)'\n5. 'subject'\n6. 'Activity'\n\n\n",
            "text/plain": [
              "[1] \"angle(tBodyGyroJerkMean,gravityMean)\"\n",
              "[2] \"angle(X,gravityMean)\"                \n",
              "[3] \"angle(Y,gravityMean)\"                \n",
              "[4] \"angle(Z,gravityMean)\"                \n",
              "[5] \"subject\"                             \n",
              "[6] \"Activity\"                            "
            ]
          },
          "metadata": {
            "tags": []
          }
        }
      ]
    },
    {
      "cell_type": "markdown",
      "metadata": {
        "id": "oPmsVRnrGRKE"
      },
      "source": [
        "Chequeamos cuántas actividades distintas tenemos, esto es importante porque determina la cantidad de unidades que tenemos en la capa de salida de la RNA."
      ]
    },
    {
      "cell_type": "code",
      "metadata": {
        "id": "BJ9f1IfUGRKE",
        "outputId": "0a766121-7ff7-4762-d5f3-70d5aac04d74"
      },
      "source": [
        "unique(train_df$Activity)"
      ],
      "execution_count": null,
      "outputs": [
        {
          "output_type": "display_data",
          "data": {
            "text/html": [
              "<ol class=list-inline>\n",
              "\t<li>'STANDING'</li>\n",
              "\t<li>'SITTING'</li>\n",
              "\t<li>'LAYING'</li>\n",
              "\t<li>'WALKING'</li>\n",
              "\t<li>'WALKING_DOWNSTAIRS'</li>\n",
              "\t<li>'WALKING_UPSTAIRS'</li>\n",
              "</ol>\n"
            ],
            "text/latex": "\\begin{enumerate*}\n\\item 'STANDING'\n\\item 'SITTING'\n\\item 'LAYING'\n\\item 'WALKING'\n\\item 'WALKING\\_DOWNSTAIRS'\n\\item 'WALKING\\_UPSTAIRS'\n\\end{enumerate*}\n",
            "text/markdown": "1. 'STANDING'\n2. 'SITTING'\n3. 'LAYING'\n4. 'WALKING'\n5. 'WALKING_DOWNSTAIRS'\n6. 'WALKING_UPSTAIRS'\n\n\n",
            "text/plain": [
              "[1] \"STANDING\"           \"SITTING\"            \"LAYING\"            \n",
              "[4] \"WALKING\"            \"WALKING_DOWNSTAIRS\" \"WALKING_UPSTAIRS\"  "
            ]
          },
          "metadata": {
            "tags": []
          }
        }
      ]
    },
    {
      "cell_type": "markdown",
      "metadata": {
        "id": "IKn0PiBrGRKE"
      },
      "source": [
        "Los datos ya estaban separados en entrenamiento y test. Tenemos que subdividir los datos de entrenamiento en entrenamiento y validación. La asignación de las observaciones a submuestras se hace considerando el ID del sujeto."
      ]
    },
    {
      "cell_type": "code",
      "metadata": {
        "id": "1C8hzVqmGRKE",
        "outputId": "97a66f6c-827a-492c-e113-61ff3ed6591e"
      },
      "source": [
        "length(unique(train_df$subject))"
      ],
      "execution_count": null,
      "outputs": [
        {
          "output_type": "display_data",
          "data": {
            "text/html": [
              "21"
            ],
            "text/latex": "21",
            "text/markdown": "21",
            "text/plain": [
              "[1] 21"
            ]
          },
          "metadata": {
            "tags": []
          }
        }
      ]
    },
    {
      "cell_type": "code",
      "metadata": {
        "id": "mNA3OKd3GRKF"
      },
      "source": [
        "set.seed(123)\n",
        "subject_cv <- sample(unique(train_df$subject), 9)\n",
        "\n",
        "cv_df <- train_df %>%\n",
        "filter(subject %in% subject_cv)\n",
        "\n",
        "train_df <- train_df %>%\n",
        "filter(subject %in% subject_cv == F)"
      ],
      "execution_count": null,
      "outputs": []
    },
    {
      "cell_type": "code",
      "metadata": {
        "id": "S30wpZTjGRKF",
        "outputId": "2560e419-9531-41e2-aacc-b2bd697478e3"
      },
      "source": [
        "length(unique(cv_df$subject))"
      ],
      "execution_count": null,
      "outputs": [
        {
          "output_type": "display_data",
          "data": {
            "text/html": [
              "9"
            ],
            "text/latex": "9",
            "text/markdown": "9",
            "text/plain": [
              "[1] 9"
            ]
          },
          "metadata": {
            "tags": []
          }
        }
      ]
    },
    {
      "cell_type": "code",
      "metadata": {
        "id": "wBnsFpDEGRKF",
        "outputId": "94fd34e7-dba2-4fe5-e31b-a6a57a18ddf0"
      },
      "source": [
        "length(unique(train_df$subject))"
      ],
      "execution_count": null,
      "outputs": [
        {
          "output_type": "display_data",
          "data": {
            "text/html": [
              "12"
            ],
            "text/latex": "12",
            "text/markdown": "12",
            "text/plain": [
              "[1] 12"
            ]
          },
          "metadata": {
            "tags": []
          }
        }
      ]
    },
    {
      "cell_type": "code",
      "metadata": {
        "collapsed": true,
        "id": "BczgOnHSGRKF",
        "outputId": "7bfd92f8-eb21-4d49-8e64-7592de1f73a3"
      },
      "source": [
        "test_df <- read_csv('test.csv')"
      ],
      "execution_count": null,
      "outputs": [
        {
          "output_type": "stream",
          "text": [
            "Warning message:\n",
            "\"Duplicated column names deduplicated: 'fBodyAcc-bandsEnergy()-1,8' => 'fBodyAcc-bandsEnergy()-1,8_1' [317], 'fBodyAcc-bandsEnergy()-9,16' => 'fBodyAcc-bandsEnergy()-9,16_1' [318], 'fBodyAcc-bandsEnergy()-17,24' => 'fBodyAcc-bandsEnergy()-17,24_1' [319], 'fBodyAcc-bandsEnergy()-25,32' => 'fBodyAcc-bandsEnergy()-25,32_1' [320], 'fBodyAcc-bandsEnergy()-33,40' => 'fBodyAcc-bandsEnergy()-33,40_1' [321], 'fBodyAcc-bandsEnergy()-41,48' => 'fBodyAcc-bandsEnergy()-41,48_1' [322], 'fBodyAcc-bandsEnergy()-49,56' => 'fBodyAcc-bandsEnergy()-49,56_1' [323], 'fBodyAcc-bandsEnergy()-57,64' => 'fBodyAcc-bandsEnergy()-57,64_1' [324], 'fBodyAcc-bandsEnergy()-1,16' => 'fBodyAcc-bandsEnergy()-1,16_1' [325], 'fBodyAcc-bandsEnergy()-17,32' => 'fBodyAcc-bandsEnergy()-17,32_1' [326], 'fBodyAcc-bandsEnergy()-33,48' => 'fBodyAcc-bandsEnergy()-33,48_1' [327], 'fBodyAcc-bandsEnergy()-49,64' => 'fBodyAcc-bandsEnergy()-49,64_1' [328], 'fBodyAcc-bandsEnergy()-1,24' => 'fBodyAcc-bandsEnergy()-1,24_1' [329], 'fBodyAcc-bandsEnergy()-25,48' => 'fBodyAcc-bandsEnergy()-25,48_1' [330], 'fBodyAcc-bandsEnergy()-1,8' => 'fBodyAcc-bandsEnergy()-1,8_2' [331], 'fBodyAcc-bandsEnergy()-9,16' => 'fBodyAcc-bandsEnergy()-9,16_2' [332], 'fBodyAcc-bandsEnergy()-17,24' => 'fBodyAcc-bandsEnergy()-17,24_2' [333], 'fBodyAcc-bandsEnergy()-25,32' => 'fBodyAcc-bandsEnergy()-25,32_2' [334], 'fBodyAcc-bandsEnergy()-33,40' => 'fBodyAcc-bandsEnergy()-33,40_2' [335], 'fBodyAcc-bandsEnergy()-41,48' => 'fBodyAcc-bandsEnergy()-41,48_2' [336], 'fBodyAcc-bandsEnergy()-49,56' => 'fBodyAcc-bandsEnergy()-49,56_2' [337], 'fBodyAcc-bandsEnergy()-57,64' => 'fBodyAcc-bandsEnergy()-57,64_2' [338], 'fBodyAcc-bandsEnergy()-1,16' => 'fBodyAcc-bandsEnergy()-1,16_2' [339], 'fBodyAcc-bandsEnergy()-17,32' => 'fBodyAcc-bandsEnergy()-17,32_2' [340], 'fBodyAcc-bandsEnergy()-33,48' => 'fBodyAcc-bandsEnergy()-33,48_2' [341], 'fBodyAcc-bandsEnergy()-49,64' => 'fBodyAcc-bandsEnergy()-49,64_2' [342], 'fBodyAcc-bandsEnergy()-1,24' => 'fBodyAcc-bandsEnergy()-1,24_2' [343], 'fBodyAcc-bandsEnergy()-25,48' => 'fBodyAcc-bandsEnergy()-25,48_2' [344], 'fBodyAccJerk-bandsEnergy()-1,8' => 'fBodyAccJerk-bandsEnergy()-1,8_1' [396], 'fBodyAccJerk-bandsEnergy()-9,16' => 'fBodyAccJerk-bandsEnergy()-9,16_1' [397], 'fBodyAccJerk-bandsEnergy()-17,24' => 'fBodyAccJerk-bandsEnergy()-17,24_1' [398], 'fBodyAccJerk-bandsEnergy()-25,32' => 'fBodyAccJerk-bandsEnergy()-25,32_1' [399], 'fBodyAccJerk-bandsEnergy()-33,40' => 'fBodyAccJerk-bandsEnergy()-33,40_1' [400], 'fBodyAccJerk-bandsEnergy()-41,48' => 'fBodyAccJerk-bandsEnergy()-41,48_1' [401], 'fBodyAccJerk-bandsEnergy()-49,56' => 'fBodyAccJerk-bandsEnergy()-49,56_1' [402], 'fBodyAccJerk-bandsEnergy()-57,64' => 'fBodyAccJerk-bandsEnergy()-57,64_1' [403], 'fBodyAccJerk-bandsEnergy()-1,16' => 'fBodyAccJerk-bandsEnergy()-1,16_1' [404], 'fBodyAccJerk-bandsEnergy()-17,32' => 'fBodyAccJerk-bandsEnergy()-17,32_1' [405], 'fBodyAccJerk-bandsEnergy()-33,48' => 'fBodyAccJerk-bandsEnergy()-33,48_1' [406], 'fBodyAccJerk-bandsEnergy()-49,64' => 'fBodyAccJerk-bandsEnergy()-49,64_1' [407], 'fBodyAccJerk-bandsEnergy()-1,24' => 'fBodyAccJerk-bandsEnergy()-1,24_1' [408], 'fBodyAccJerk-bandsEnergy()-25,48' => 'fBodyAccJerk-bandsEnergy()-25,48_1' [409], 'fBodyAccJerk-bandsEnergy()-1,8' => 'fBodyAccJerk-bandsEnergy()-1,8_2' [410], 'fBodyAccJerk-bandsEnergy()-9,16' => 'fBodyAccJerk-bandsEnergy()-9,16_2' [411], 'fBodyAccJerk-bandsEnergy()-17,24' => 'fBodyAccJerk-bandsEnergy()-17,24_2' [412], 'fBodyAccJerk-bandsEnergy()-25,32' => 'fBodyAccJerk-bandsEnergy()-25,32_2' [413], 'fBodyAccJerk-bandsEnergy()-33,40' => 'fBodyAccJerk-bandsEnergy()-33,40_2' [414], 'fBodyAccJerk-bandsEnergy()-41,48' => 'fBodyAccJerk-bandsEnergy()-41,48_2' [415], 'fBodyAccJerk-bandsEnergy()-49,56' => 'fBodyAccJerk-bandsEnergy()-49,56_2' [416], 'fBodyAccJerk-bandsEnergy()-57,64' => 'fBodyAccJerk-bandsEnergy()-57,64_2' [417], 'fBodyAccJerk-bandsEnergy()-1,16' => 'fBodyAccJerk-bandsEnergy()-1,16_2' [418], 'fBodyAccJerk-bandsEnergy()-17,32' => 'fBodyAccJerk-bandsEnergy()-17,32_2' [419], 'fBodyAccJerk-bandsEnergy()-33,48' => 'fBodyAccJerk-bandsEnergy()-33,48_2' [420], 'fBodyAccJerk-bandsEnergy()-49,64' => 'fBodyAccJerk-bandsEnergy()-49,64_2' [421], 'fBodyAccJerk-bandsEnergy()-1,24' => 'fBodyAccJerk-bandsEnergy()-1,24_2' [422], 'fBodyAccJerk-bandsEnergy()-25,48' => 'fBodyAccJerk-bandsEnergy()-25,48_2' [423], 'fBodyGyro-bandsEnergy()-1,8' => 'fBodyGyro-bandsEnergy()-1,8_1' [475], 'fBodyGyro-bandsEnergy()-9,16' => 'fBodyGyro-bandsEnergy()-9,16_1' [476], 'fBodyGyro-bandsEnergy()-17,24' => 'fBodyGyro-bandsEnergy()-17,24_1' [477], 'fBodyGyro-bandsEnergy()-25,32' => 'fBodyGyro-bandsEnergy()-25,32_1' [478], 'fBodyGyro-bandsEnergy()-33,40' => 'fBodyGyro-bandsEnergy()-33,40_1' [479], 'fBodyGyro-bandsEnergy()-41,48' => 'fBodyGyro-bandsEnergy()-41,48_1' [480], 'fBodyGyro-bandsEnergy()-49,56' => 'fBodyGyro-bandsEnergy()-49,56_1' [481], 'fBodyGyro-bandsEnergy()-57,64' => 'fBodyGyro-bandsEnergy()-57,64_1' [482], 'fBodyGyro-bandsEnergy()-1,16' => 'fBodyGyro-bandsEnergy()-1,16_1' [483], 'fBodyGyro-bandsEnergy()-17,32' => 'fBodyGyro-bandsEnergy()-17,32_1' [484], 'fBodyGyro-bandsEnergy()-33,48' => 'fBodyGyro-bandsEnergy()-33,48_1' [485], 'fBodyGyro-bandsEnergy()-49,64' => 'fBodyGyro-bandsEnergy()-49,64_1' [486], 'fBodyGyro-bandsEnergy()-1,24' => 'fBodyGyro-bandsEnergy()-1,24_1' [487], 'fBodyGyro-bandsEnergy()-25,48' => 'fBodyGyro-bandsEnergy()-25,48_1' [488], 'fBodyGyro-bandsEnergy()-1,8' => 'fBodyGyro-bandsEnergy()-1,8_2' [489], 'fBodyGyro-bandsEnergy()-9,16' => 'fBodyGyro-bandsEnergy()-9,16_2' [490], 'fBodyGyro-bandsEnergy()-17,24' => 'fBodyGyro-bandsEnergy()-17,24_2' [491], 'fBodyGyro-bandsEnergy()-25,32' => 'fBodyGyro-bandsEnergy()-25,32_2' [492], 'fBodyGyro-bandsEnergy()-33,40' => 'fBodyGyro-bandsEnergy()-33,40_2' [493], 'fBodyGyro-bandsEnergy()-41,48' => 'fBodyGyro-bandsEnergy()-41,48_2' [494], 'fBodyGyro-bandsEnergy()-49,56' => 'fBodyGyro-bandsEnergy()-49,56_2' [495], 'fBodyGyro-bandsEnergy()-57,64' => 'fBodyGyro-bandsEnergy()-57,64_2' [496], 'fBodyGyro-bandsEnergy()-1,16' => 'fBodyGyro-bandsEnergy()-1,16_2' [497], 'fBodyGyro-bandsEnergy()-17,32' => 'fBodyGyro-bandsEnergy()-17,32_2' [498], 'fBodyGyro-bandsEnergy()-33,48' => 'fBodyGyro-bandsEnergy()-33,48_2' [499], 'fBodyGyro-bandsEnergy()-49,64' => 'fBodyGyro-bandsEnergy()-49,64_2' [500], 'fBodyGyro-bandsEnergy()-1,24' => 'fBodyGyro-bandsEnergy()-1,24_2' [501], 'fBodyGyro-bandsEnergy()-25,48' => 'fBodyGyro-bandsEnergy()-25,48_2' [502]\"Parsed with column specification:\n",
            "cols(\n",
            "  .default = col_double(),\n",
            "  Activity = col_character()\n",
            ")\n",
            "See spec(...) for full column specifications.\n"
          ],
          "name": "stderr"
        }
      ]
    },
    {
      "cell_type": "markdown",
      "metadata": {
        "id": "Sc--Pj2YGRKG"
      },
      "source": [
        "###  Variables objetivo / explicativas\n",
        "\n",
        "Las funciones que utilizaremos requieren que los datos no estén en forma de data frame, sino como matriz. Para cada set de datos (entrenamiento, validación y test) vamos a armar por un lado una matriz con los valores observados de las variables explicativas y por otro, otra matriz con variables dummies correspondientes a las categorías de actividad, que es nuestra variable objetivo."
      ]
    },
    {
      "cell_type": "code",
      "metadata": {
        "id": "z2FRFuxSGRKG"
      },
      "source": [
        "x_train <- train_df %>%\n",
        "select(-subject, -Activity) %>%\n",
        "as.matrix()"
      ],
      "execution_count": null,
      "outputs": []
    },
    {
      "cell_type": "code",
      "metadata": {
        "id": "5tTQ-VFRGRKG"
      },
      "source": [
        "y_train <- train_df %>%\n",
        "mutate(T1 = ifelse(Activity == \"STANDING\", 1, 0),\n",
        "T2 = ifelse(Activity == \"SITTING\", 1, 0),\n",
        "T3 = ifelse(Activity == \"LAYING\", 1, 0),\n",
        "T4 = ifelse(Activity == \"WALKING\", 1, 0),\n",
        "T5 = ifelse(Activity == \"WALKING_DOWNSTAIRS\", 1, 0),\n",
        "T6 = ifelse(Activity == \"WALKING_UPSTAIRS\", 1, 0)) %>%\n",
        "select(T1:T6) %>%\n",
        "as.matrix()"
      ],
      "execution_count": null,
      "outputs": []
    },
    {
      "cell_type": "code",
      "metadata": {
        "id": "xZlUmD0jGRKJ"
      },
      "source": [
        "x_cv <- cv_df %>%\n",
        "select(-subject, -Activity) %>%\n",
        "as.matrix()"
      ],
      "execution_count": null,
      "outputs": []
    },
    {
      "cell_type": "code",
      "metadata": {
        "id": "CrzCQunXGRKJ"
      },
      "source": [
        "y_cv <- cv_df %>%\n",
        "mutate(T1 = ifelse(Activity == \"STANDING\", 1, 0),\n",
        "T2 = ifelse(Activity == \"SITTING\", 1, 0),\n",
        "T3 = ifelse(Activity == \"LAYING\", 1, 0),\n",
        "T4 = ifelse(Activity == \"WALKING\", 1, 0),\n",
        "T5 = ifelse(Activity == \"WALKING_DOWNSTAIRS\", 1, 0),\n",
        "T6 = ifelse(Activity == \"WALKING_UPSTAIRS\", 1, 0)) %>%\n",
        "select(T1:T6) %>%\n",
        "as.matrix()"
      ],
      "execution_count": null,
      "outputs": []
    },
    {
      "cell_type": "code",
      "metadata": {
        "id": "1fGti0D3GRKJ"
      },
      "source": [
        "x_test <- test_df %>%\n",
        "select(-subject, -Activity) %>%\n",
        "as.matrix()"
      ],
      "execution_count": null,
      "outputs": []
    },
    {
      "cell_type": "code",
      "metadata": {
        "id": "_rp449HwGRKJ"
      },
      "source": [
        "y_test <- test_df %>%\n",
        "mutate(T1 = ifelse(Activity == \"STANDING\", 1, 0),\n",
        "T2 = ifelse(Activity == \"SITTING\", 1, 0),\n",
        "T3 = ifelse(Activity == \"LAYING\", 1, 0),\n",
        "T4 = ifelse(Activity == \"WALKING\", 1, 0),\n",
        "T5 = ifelse(Activity == \"WALKING_DOWNSTAIRS\", 1, 0),\n",
        "T6 = ifelse(Activity == \"WALKING_UPSTAIRS\", 1, 0)) %>%\n",
        "select(T1:T6) %>%\n",
        "as.matrix()"
      ],
      "execution_count": null,
      "outputs": []
    },
    {
      "cell_type": "markdown",
      "metadata": {
        "id": "LigNFJyoGRKK"
      },
      "source": [
        "### Uso de tensorflow"
      ]
    },
    {
      "cell_type": "code",
      "metadata": {
        "id": "upHhD-5hGRKK",
        "outputId": "a773368d-1b2f-42cc-a96e-00de70cd0ee9"
      },
      "source": [
        "sess = tf$Session()\n",
        "use_session_with_seed(123)"
      ],
      "execution_count": null,
      "outputs": [
        {
          "output_type": "stream",
          "text": [
            "Set session seed to 123 (disabled GPU, CPU parallelism)\n"
          ],
          "name": "stderr"
        }
      ]
    },
    {
      "cell_type": "markdown",
      "metadata": {
        "id": "QvTAI8ILGRKK"
      },
      "source": [
        "A la cantidad de unidades en la capa de entrada ya la conocemos, habíamos dicho que eran 561."
      ]
    },
    {
      "cell_type": "code",
      "metadata": {
        "id": "HFm1xcNeGRKK",
        "outputId": "0cdc356e-06b8-4291-fcaa-33a5d0f45367"
      },
      "source": [
        "#Cant. unidades de entrada:\n",
        "unit_count <- ncol(x_train)\n",
        "unit_count"
      ],
      "execution_count": null,
      "outputs": [
        {
          "output_type": "display_data",
          "data": {
            "text/html": [
              "561"
            ],
            "text/latex": "561",
            "text/markdown": "561",
            "text/plain": [
              "[1] 561"
            ]
          },
          "metadata": {
            "tags": []
          }
        }
      ]
    },
    {
      "cell_type": "markdown",
      "metadata": {
        "id": "oNlC3OULGRKK"
      },
      "source": [
        "#### ¿Cuántas unidades debería tener la capa oculta?\n",
        "\n",
        "Como hablamos anteriormente, podríamos pensar que tendría que haber un número óptimo de unidades en la capa oculta. Este hiperparámetro, llamémoslo *M*, se determinará en función al análisis del error que haremos a continuación.\n",
        "\n",
        "Vamos a estimar el error aparente que tendría la RNA si *M* fuese 100, 500, 1000 o 5000. Para eso planteamos un proceso en el que, para cada valor de *M* que queremos probar, usaremos los datos de entrenamiento para estimar los parámetros de la red y luego los datos de validación para observar el error sobre un conjunto que no haya sido utilizado en la etapa de estimación. Esperamos que esto nos de una idea de qué valor de *M* podría resultar apropiado."
      ]
    },
    {
      "cell_type": "code",
      "metadata": {
        "id": "YGHhPm2jGRKL"
      },
      "source": [
        "M <- c(100, 500, 1000, 5000)\n",
        "\n",
        "M_Unid <- c()\n",
        "Muestra <- c()\n",
        "Err_aparente <- c()\n",
        "Iteracion <- c()\n",
        "Acc_train <- c()\n",
        "Acc_cv <- c()"
      ],
      "execution_count": null,
      "outputs": []
    },
    {
      "cell_type": "code",
      "metadata": {
        "id": "yQPS5KLiGRKL"
      },
      "source": [
        "prev_time <- Sys.time()\n",
        "\n",
        "for (i in 1:length(M)) {\n",
        "  \n",
        "  for (j in 1:30) {\n",
        "    \n",
        "    rna1 <- keras_model_sequential() \n",
        "    rna1 %>% \n",
        "      layer_dense(units = M[i], \n",
        "                  activation = 'relu',\n",
        "                  input_shape = c(unit_count)) %>% \n",
        "      layer_dense(units = 6, \n",
        "                  activation = 'softmax')\n",
        "    \n",
        "    rna1 %>% compile(\n",
        "      loss = 'categorical_crossentropy',\n",
        "      optimizer = optimizer_sgd(lr = 0.01),\n",
        "      metrics = c('categorical_accuracy')\n",
        "    )\n",
        "    \n",
        "    history1 <- rna1 %>% \n",
        "      fit(x = x_train, \n",
        "          y = y_train,\n",
        "          epochs = 5,\n",
        "          validation_data = list(x_cv,y_cv))\n",
        "    \n",
        "    \n",
        "    \n",
        "    Iteracion <- c(Iteracion, replicate(2,j))\n",
        "    \n",
        "    M_Unid <- c(M_Unid, replicate(2,M[i]))\n",
        "    \n",
        "    Muestra <- c(Muestra,\n",
        "                 \"Entrenamiento\",\n",
        "                 \"Validación\")\n",
        "    \n",
        "    Acc_train <- rna1 %>% evaluate(x_train, y_train)\n",
        "    \n",
        "    Acc_cv <- rna1 %>% evaluate(x_cv, y_cv)\n",
        "    \n",
        "    Err_aparente <- c(Err_aparente,\n",
        "                      1-Acc_train$categorical_accuracy,\n",
        "                      1-Acc_cv$categorical_accuracy)\n",
        "    \n",
        "  }\n",
        "}\n",
        "\n",
        "pos_time <- Sys.time()"
      ],
      "execution_count": null,
      "outputs": []
    },
    {
      "cell_type": "code",
      "metadata": {
        "id": "VLrYjyhiGRKM",
        "outputId": "bcd9f484-b711-43f6-d948-8e9d7f301c96"
      },
      "source": [
        "# En mi máquina esto tardó:\n",
        "pos_time - prev_time"
      ],
      "execution_count": null,
      "outputs": [
        {
          "output_type": "display_data",
          "data": {
            "text/plain": [
              "Time difference of 32.77547 mins"
            ]
          },
          "metadata": {
            "tags": []
          }
        }
      ]
    },
    {
      "cell_type": "code",
      "metadata": {
        "id": "8uCHvYtfGRKM"
      },
      "source": [
        "selec_M <- data.frame(M_Unid, Muestra, Err_aparente)"
      ],
      "execution_count": null,
      "outputs": []
    },
    {
      "cell_type": "code",
      "metadata": {
        "id": "YbE53zVVGRKM",
        "outputId": "e0ee4f45-567b-41ae-900c-31ea03026bf4"
      },
      "source": [
        "ggplot(data = selec_M,\n",
        "       aes(x = factor(M_Unid),\n",
        "           y = Err_aparente,\n",
        "           fill = Muestra)) +\n",
        "geom_boxplot() +\n",
        "scale_y_continuous(labels = scales::percent_format(1)) + \n",
        "labs(x = \"M\",\n",
        "     y = \"Error aparente\")"
      ],
      "execution_count": null,
      "outputs": [
        {
          "output_type": "display_data",
          "data": {
            "image/png": "[encoded data removed]",
            "text/plain": [
              "plot without title"
            ]
          },
          "metadata": {
            "tags": []
          }
        }
      ]
    },
    {
      "cell_type": "markdown",
      "metadata": {
        "id": "BjD11PtzGRKN"
      },
      "source": [
        "#### Otra estrategia\n",
        "\n",
        "Otra manera de proceder sería eligiendo un valor de *M* grande (grande sería al menos mayor que la cantidad de unidades en la capa de entrada) y, en la función de costo que utilizamos para la estimación de los parámetros, introducir un parámetro de penalización que fuerce a aquellos parámetros que no tengan mucho sustento en los datos a tener un peso bajo.\n",
        "\n",
        "Para hacer esto, podemos plantear algunos valores del parámetro de penalización y proceder de la misma manera que cuando probamos distintos valores de *M*, solamente que ahora tendríamos que fijar *M* en un valor \"grande\" y hacer variar la penalización, a la que llamaremos $\\lambda$ (en el código está como lambda)."
      ]
    },
    {
      "cell_type": "code",
      "metadata": {
        "id": "3MbUtl4rGRKN"
      },
      "source": [
        "lambda <- c(0, 0.01, 0.1, 1, 10)\n",
        "\n",
        "Reg_param <- c()\n",
        "Muestra <- c()\n",
        "Err_aparente <- c()\n",
        "Iteracion <- c()\n",
        "Acc_train <- c()\n",
        "Acc_cv <- c()"
      ],
      "execution_count": null,
      "outputs": []
    },
    {
      "cell_type": "code",
      "metadata": {
        "id": "bAxlSyghGRKN"
      },
      "source": [
        "prev_time2 <- Sys.time()\n",
        "\n",
        "for (i in 1:length(lambda)) {\n",
        "  \n",
        "  for (j in 1:30) {\n",
        "    \n",
        "    rna1 <- keras_model_sequential() \n",
        "    rna1 %>% \n",
        "      layer_dense(units = 1000, \n",
        "                  activation = 'relu', \n",
        "                  kernel_regularizer = regularizer_l2(lambda[i]),\n",
        "                  input_shape = c(unit_count)) %>% \n",
        "      layer_dense(units = 6, \n",
        "                  activation = 'softmax')\n",
        "    \n",
        "    rna1 %>% compile(\n",
        "      loss = 'categorical_crossentropy',\n",
        "      optimizer = optimizer_sgd(lr = 0.01),\n",
        "      metrics = c('categorical_accuracy')\n",
        "    )\n",
        "    \n",
        "    history1 <- rna1 %>% \n",
        "      fit(x = x_train, \n",
        "          y = y_train,\n",
        "          epochs = 5,\n",
        "          validation_data = list(x_cv,y_cv))\n",
        "    \n",
        "    \n",
        "    \n",
        "    Iteracion <- c(Iteracion, replicate(2,j))\n",
        "    \n",
        "    Reg_param <- c(Reg_param, replicate(2,lambda[i]))\n",
        "    \n",
        "    Muestra <- c(Muestra,\n",
        "                 \"Entrenamiento\",\n",
        "                 \"Validación\")\n",
        "    \n",
        "    Acc_train <- rna1 %>% evaluate(x_train, y_train)\n",
        "    \n",
        "    Acc_cv <- rna1 %>% evaluate(x_cv, y_cv)\n",
        "    \n",
        "    Err_aparente <- c(Err_aparente,\n",
        "                      1-Acc_train$categorical_accuracy,\n",
        "                      1-Acc_cv$categorical_accuracy)\n",
        "    \n",
        "  }\n",
        "}\n",
        "\n",
        "pos_time2 <- Sys.time()"
      ],
      "execution_count": null,
      "outputs": []
    },
    {
      "cell_type": "code",
      "metadata": {
        "id": "KhRdqWoaGRKO",
        "outputId": "579e2a09-dacf-4a56-8b11-1aea15d0c56a"
      },
      "source": [
        "# en mi máquina esto tardó:\n",
        "pos_time2 - prev_time2"
      ],
      "execution_count": null,
      "outputs": [
        {
          "output_type": "display_data",
          "data": {
            "text/plain": [
              "Time difference of 1.080293 hours"
            ]
          },
          "metadata": {
            "tags": []
          }
        }
      ]
    },
    {
      "cell_type": "code",
      "metadata": {
        "id": "FwqlfpICGRKO"
      },
      "source": [
        "selec_lambda <- data.frame(Reg_param, Muestra, Err_aparente)"
      ],
      "execution_count": null,
      "outputs": []
    },
    {
      "cell_type": "code",
      "metadata": {
        "id": "mDc8_eDmGRKO",
        "outputId": "ab903528-9143-430b-96be-e295e46ba3f8"
      },
      "source": [
        "ggplot(data = selec_lambda,\n",
        "       aes(x = factor(Reg_param),\n",
        "           y = Err_aparente, \n",
        "           fill = Muestra)) +\n",
        "geom_boxplot() +\n",
        "scale_y_continuous(labels = scales::percent_format(1)) +\n",
        "labs(x = expression(lambda),\n",
        "     y = \"Error aparente\")"
      ],
      "execution_count": null,
      "outputs": [
        {
          "output_type": "display_data",
          "data": {
            "image/png": "[encoded data removed]",
            "text/plain": [
              "plot without title"
            ]
          },
          "metadata": {
            "tags": []
          }
        }
      ]
    },
    {
      "cell_type": "markdown",
      "metadata": {
        "id": "mP60mRhmGRKO"
      },
      "source": [
        "### Diseño seleccionado"
      ]
    },
    {
      "cell_type": "code",
      "metadata": {
        "id": "Z9MCZUH7GRKO"
      },
      "source": [
        "set.seed(123)\n",
        "\n",
        "rna1 <- keras_model_sequential() \n",
        "rna1 %>% \n",
        "  layer_dense(units = 500, \n",
        "              activation = 'relu', \n",
        "              input_shape = c(unit_count)) %>% \n",
        "  layer_dense(units = 6, \n",
        "              activation = 'softmax')\n",
        "\n",
        "rna1 %>% compile(\n",
        "  loss = 'categorical_crossentropy',\n",
        "  optimizer = optimizer_sgd(lr = 0.01),\n",
        "  metrics = c('categorical_accuracy')\n",
        ")\n",
        "\n",
        "history1 <- rna1 %>% \n",
        "  fit(x = x_train, \n",
        "      y = y_train,\n",
        "      validation_data = list(x_cv,y_cv))"
      ],
      "execution_count": null,
      "outputs": []
    },
    {
      "cell_type": "code",
      "metadata": {
        "id": "IxQLiHOWGRKP",
        "outputId": "eff7000f-a116-40a5-e002-542366c4d09a"
      },
      "source": [
        "# Precisión en la muestra de entrenamiento\n",
        "rna1 %>% evaluate(x_train, y_train)"
      ],
      "execution_count": null,
      "outputs": [
        {
          "output_type": "display_data",
          "data": {
            "text/html": [
              "<dl>\n",
              "\t<dt>$loss</dt>\n",
              "\t\t<dd>0.157366802160244</dd>\n",
              "\t<dt>$categorical_accuracy</dt>\n",
              "\t\t<dd>0.963349580764771</dd>\n",
              "</dl>\n"
            ],
            "text/latex": "\\begin{description}\n\\item[\\$loss] 0.157366802160244\n\\item[\\$categorical\\_accuracy] 0.963349580764771\n\\end{description}\n",
            "text/markdown": "$loss\n:   0.157366802160244\n$categorical_accuracy\n:   0.963349580764771\n\n\n",
            "text/plain": [
              "$loss\n",
              "[1] 0.1573668\n",
              "\n",
              "$categorical_accuracy\n",
              "[1] 0.9633496\n"
            ]
          },
          "metadata": {
            "tags": []
          }
        }
      ]
    },
    {
      "cell_type": "code",
      "metadata": {
        "id": "WupRR5wlGRKP",
        "outputId": "de68b53d-ad46-4619-f5eb-084c7c90cfe6"
      },
      "source": [
        "# Precisión en la muestra de cross-validation\n",
        "rna1 %>% evaluate(x_cv, y_cv)"
      ],
      "execution_count": null,
      "outputs": [
        {
          "output_type": "display_data",
          "data": {
            "text/html": [
              "<dl>\n",
              "\t<dt>$loss</dt>\n",
              "\t\t<dd>0.247452445129782</dd>\n",
              "\t<dt>$categorical_accuracy</dt>\n",
              "\t\t<dd>0.920092046260834</dd>\n",
              "</dl>\n"
            ],
            "text/latex": "\\begin{description}\n\\item[\\$loss] 0.247452445129782\n\\item[\\$categorical\\_accuracy] 0.920092046260834\n\\end{description}\n",
            "text/markdown": "$loss\n:   0.247452445129782\n$categorical_accuracy\n:   0.920092046260834\n\n\n",
            "text/plain": [
              "$loss\n",
              "[1] 0.2474524\n",
              "\n",
              "$categorical_accuracy\n",
              "[1] 0.920092\n"
            ]
          },
          "metadata": {
            "tags": []
          }
        }
      ]
    },
    {
      "cell_type": "code",
      "metadata": {
        "id": "O5QPeSzjGRKP",
        "outputId": "11730fef-22c6-4ad0-b942-b151aedce45b"
      },
      "source": [
        "# Precisión en la muestra de test\n",
        "rna1 %>% evaluate(x_test, y_test)"
      ],
      "execution_count": null,
      "outputs": [
        {
          "output_type": "display_data",
          "data": {
            "text/html": [
              "<dl>\n",
              "\t<dt>$loss</dt>\n",
              "\t\t<dd>0.243641424166942</dd>\n",
              "\t<dt>$categorical_accuracy</dt>\n",
              "\t\t<dd>0.927044451236725</dd>\n",
              "</dl>\n"
            ],
            "text/latex": "\\begin{description}\n\\item[\\$loss] 0.243641424166942\n\\item[\\$categorical\\_accuracy] 0.927044451236725\n\\end{description}\n",
            "text/markdown": "$loss\n:   0.243641424166942\n$categorical_accuracy\n:   0.927044451236725\n\n\n",
            "text/plain": [
              "$loss\n",
              "[1] 0.2436414\n",
              "\n",
              "$categorical_accuracy\n",
              "[1] 0.9270445\n"
            ]
          },
          "metadata": {
            "tags": []
          }
        }
      ]
    }
  ]
}